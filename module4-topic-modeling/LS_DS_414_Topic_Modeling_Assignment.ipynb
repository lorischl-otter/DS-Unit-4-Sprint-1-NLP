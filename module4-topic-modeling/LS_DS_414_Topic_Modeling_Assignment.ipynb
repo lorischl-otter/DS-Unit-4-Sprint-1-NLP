{
 "cells": [
  {
   "cell_type": "markdown",
   "metadata": {},
   "source": [
    "<img align=\"left\" src=\"https://lever-client-logos.s3.amazonaws.com/864372b1-534c-480e-acd5-9711f850815c-1524247202159.png\" width=200>\n",
    "<br></br>\n",
    "<br></br>\n",
    "\n",
    "# Topic Modeling\n",
    "## *Data Science Unit 4 Sprint 1 Assignment 4*\n",
    "\n",
    "Analyze a corpus of Amazon reviews from Unit 4 Sprint 1 Module 1's lecture using topic modeling: \n",
    "\n",
    "- Fit a Gensim LDA topic model on Amazon Reviews\n",
    "- Select appropriate number of topics\n",
    "- Create some dope visualization of the topics\n",
    "- Write a few bullets on your findings in markdown at the end\n",
    "- **Note**: You don't *have* to use generators for this assignment"
   ]
  },
  {
   "cell_type": "code",
   "execution_count": 91,
   "metadata": {},
   "outputs": [],
   "source": [
    "# Imports\n",
    "import pandas as pd\n",
    "import gensim\n",
    "import re\n",
    "\n",
    "from gensim.utils import simple_preprocess\n",
    "from gensim.parsing.preprocessing import STOPWORDS\n",
    "from gensim import corpora\n",
    "\n",
    "from gensim.models.ldamulticore import LdaMulticore\n",
    "from gensim.models.coherencemodel import CoherenceModel"
   ]
  },
  {
   "cell_type": "code",
   "execution_count": 8,
   "metadata": {},
   "outputs": [],
   "source": [
    "# Import data\n",
    "path = '../module1-text-data/data/'\n",
    "df = pd.read_csv(path + \"/Datafiniti_Amazon_Consumer_Reviews_of_Amazon_Products_May19.csv\")"
   ]
  },
  {
   "cell_type": "code",
   "execution_count": 12,
   "metadata": {},
   "outputs": [
    {
     "data": {
      "text/plain": [
       "amazon          16153\n",
       "amazonbasics    12179\n",
       "Name: brand, dtype: int64"
      ]
     },
     "execution_count": 12,
     "metadata": {},
     "output_type": "execute_result"
    }
   ],
   "source": [
    "# Clean brand column\n",
    "df['brand'] = df['brand'].apply(lambda x: x.lower())"
   ]
  },
  {
   "cell_type": "code",
   "execution_count": 15,
   "metadata": {},
   "outputs": [
    {
     "data": {
      "text/plain": [
       "(28332, 24)"
      ]
     },
     "execution_count": 15,
     "metadata": {},
     "output_type": "execute_result"
    }
   ],
   "source": [
    "df.shape"
   ]
  },
  {
   "cell_type": "code",
   "execution_count": 27,
   "metadata": {},
   "outputs": [],
   "source": [
    "# Narrow dataframe\n",
    "electronics = df[df['primaryCategories'] == 'Electronics'].reset_index(drop=True)"
   ]
  },
  {
   "cell_type": "code",
   "execution_count": 28,
   "metadata": {},
   "outputs": [
    {
     "data": {
      "text/html": [
       "<div>\n",
       "<style scoped>\n",
       "    .dataframe tbody tr th:only-of-type {\n",
       "        vertical-align: middle;\n",
       "    }\n",
       "\n",
       "    .dataframe tbody tr th {\n",
       "        vertical-align: top;\n",
       "    }\n",
       "\n",
       "    .dataframe thead th {\n",
       "        text-align: right;\n",
       "    }\n",
       "</style>\n",
       "<table border=\"1\" class=\"dataframe\">\n",
       "  <thead>\n",
       "    <tr style=\"text-align: right;\">\n",
       "      <th></th>\n",
       "      <th>id</th>\n",
       "      <th>dateAdded</th>\n",
       "      <th>dateUpdated</th>\n",
       "      <th>name</th>\n",
       "      <th>asins</th>\n",
       "      <th>brand</th>\n",
       "      <th>categories</th>\n",
       "      <th>primaryCategories</th>\n",
       "      <th>imageURLs</th>\n",
       "      <th>keys</th>\n",
       "      <th>...</th>\n",
       "      <th>reviews.didPurchase</th>\n",
       "      <th>reviews.doRecommend</th>\n",
       "      <th>reviews.id</th>\n",
       "      <th>reviews.numHelpful</th>\n",
       "      <th>reviews.rating</th>\n",
       "      <th>reviews.sourceURLs</th>\n",
       "      <th>reviews.text</th>\n",
       "      <th>reviews.title</th>\n",
       "      <th>reviews.username</th>\n",
       "      <th>sourceURLs</th>\n",
       "    </tr>\n",
       "  </thead>\n",
       "  <tbody>\n",
       "    <tr>\n",
       "      <th>0</th>\n",
       "      <td>AVpe7nGV1cnluZ0-aG2o</td>\n",
       "      <td>2014-10-28T11:14:38Z</td>\n",
       "      <td>2019-04-25T09:05:28Z</td>\n",
       "      <td>AmazonBasics Nylon CD/DVD Binder (400 Capacity)</td>\n",
       "      <td>B00DIHVMEA,B00EZ1ZTV0</td>\n",
       "      <td>amazonbasics</td>\n",
       "      <td>Audio &amp; Video Accessories,TV, Video &amp; Home Aud...</td>\n",
       "      <td>Electronics</td>\n",
       "      <td>http://ecx.images-amazon.com/images/I/41jQha7Z...</td>\n",
       "      <td>amazonbasicsnyloncddvdbinder400capacity/b00ez1...</td>\n",
       "      <td>...</td>\n",
       "      <td>NaN</td>\n",
       "      <td>NaN</td>\n",
       "      <td>NaN</td>\n",
       "      <td>NaN</td>\n",
       "      <td>5</td>\n",
       "      <td>https://www.ebay.com/itm/Amazonbasics-Nylon-Cd...</td>\n",
       "      <td>Great case to keep everything in its place! My...</td>\n",
       "      <td>Excellent product</td>\n",
       "      <td>qs341_5</td>\n",
       "      <td>https://www.ebay.com/itm/AmazonBasics-Nylon-CD...</td>\n",
       "    </tr>\n",
       "  </tbody>\n",
       "</table>\n",
       "<p>1 rows × 24 columns</p>\n",
       "</div>"
      ],
      "text/plain": [
       "                     id             dateAdded           dateUpdated  \\\n",
       "0  AVpe7nGV1cnluZ0-aG2o  2014-10-28T11:14:38Z  2019-04-25T09:05:28Z   \n",
       "\n",
       "                                              name                  asins  \\\n",
       "0  AmazonBasics Nylon CD/DVD Binder (400 Capacity)  B00DIHVMEA,B00EZ1ZTV0   \n",
       "\n",
       "          brand                                         categories  \\\n",
       "0  amazonbasics  Audio & Video Accessories,TV, Video & Home Aud...   \n",
       "\n",
       "  primaryCategories                                          imageURLs  \\\n",
       "0       Electronics  http://ecx.images-amazon.com/images/I/41jQha7Z...   \n",
       "\n",
       "                                                keys  ... reviews.didPurchase  \\\n",
       "0  amazonbasicsnyloncddvdbinder400capacity/b00ez1...  ...                 NaN   \n",
       "\n",
       "  reviews.doRecommend reviews.id reviews.numHelpful reviews.rating  \\\n",
       "0                 NaN        NaN                NaN              5   \n",
       "\n",
       "                                  reviews.sourceURLs  \\\n",
       "0  https://www.ebay.com/itm/Amazonbasics-Nylon-Cd...   \n",
       "\n",
       "                                        reviews.text      reviews.title  \\\n",
       "0  Great case to keep everything in its place! My...  Excellent product   \n",
       "\n",
       "   reviews.username                                         sourceURLs  \n",
       "0           qs341_5  https://www.ebay.com/itm/AmazonBasics-Nylon-CD...  \n",
       "\n",
       "[1 rows x 24 columns]"
      ]
     },
     "execution_count": 28,
     "metadata": {},
     "output_type": "execute_result"
    }
   ],
   "source": [
    "electronics.head(1)"
   ]
  },
  {
   "cell_type": "code",
   "execution_count": 34,
   "metadata": {},
   "outputs": [],
   "source": [
    "# Add 'amazon' as custom stopword\n",
    "STOPWORDS = STOPWORDS.union(['amazon'])"
   ]
  },
  {
   "cell_type": "code",
   "execution_count": 46,
   "metadata": {},
   "outputs": [],
   "source": [
    "# Define tokenize function\n",
    "def tokenize(text):\n",
    "    return [token for token in simple_preprocess(text) if token not in STOPWORDS]"
   ]
  },
  {
   "cell_type": "code",
   "execution_count": 47,
   "metadata": {},
   "outputs": [],
   "source": [
    "# Create token column\n",
    "electronics['tokens'] = [tokenize(review) for review in electronics['reviews.text']]"
   ]
  },
  {
   "cell_type": "code",
   "execution_count": 48,
   "metadata": {
    "collapsed": true,
    "jupyter": {
     "outputs_hidden": true
    }
   },
   "outputs": [
    {
     "data": {
      "text/html": [
       "<div>\n",
       "<style scoped>\n",
       "    .dataframe tbody tr th:only-of-type {\n",
       "        vertical-align: middle;\n",
       "    }\n",
       "\n",
       "    .dataframe tbody tr th {\n",
       "        vertical-align: top;\n",
       "    }\n",
       "\n",
       "    .dataframe thead th {\n",
       "        text-align: right;\n",
       "    }\n",
       "</style>\n",
       "<table border=\"1\" class=\"dataframe\">\n",
       "  <thead>\n",
       "    <tr style=\"text-align: right;\">\n",
       "      <th></th>\n",
       "      <th>id</th>\n",
       "      <th>dateAdded</th>\n",
       "      <th>dateUpdated</th>\n",
       "      <th>name</th>\n",
       "      <th>asins</th>\n",
       "      <th>brand</th>\n",
       "      <th>categories</th>\n",
       "      <th>primaryCategories</th>\n",
       "      <th>imageURLs</th>\n",
       "      <th>keys</th>\n",
       "      <th>...</th>\n",
       "      <th>reviews.doRecommend</th>\n",
       "      <th>reviews.id</th>\n",
       "      <th>reviews.numHelpful</th>\n",
       "      <th>reviews.rating</th>\n",
       "      <th>reviews.sourceURLs</th>\n",
       "      <th>reviews.text</th>\n",
       "      <th>reviews.title</th>\n",
       "      <th>reviews.username</th>\n",
       "      <th>sourceURLs</th>\n",
       "      <th>tokens</th>\n",
       "    </tr>\n",
       "  </thead>\n",
       "  <tbody>\n",
       "    <tr>\n",
       "      <th>0</th>\n",
       "      <td>AVpe7nGV1cnluZ0-aG2o</td>\n",
       "      <td>2014-10-28T11:14:38Z</td>\n",
       "      <td>2019-04-25T09:05:28Z</td>\n",
       "      <td>AmazonBasics Nylon CD/DVD Binder (400 Capacity)</td>\n",
       "      <td>B00DIHVMEA,B00EZ1ZTV0</td>\n",
       "      <td>amazonbasics</td>\n",
       "      <td>Audio &amp; Video Accessories,TV, Video &amp; Home Aud...</td>\n",
       "      <td>Electronics</td>\n",
       "      <td>http://ecx.images-amazon.com/images/I/41jQha7Z...</td>\n",
       "      <td>amazonbasicsnyloncddvdbinder400capacity/b00ez1...</td>\n",
       "      <td>...</td>\n",
       "      <td>NaN</td>\n",
       "      <td>NaN</td>\n",
       "      <td>NaN</td>\n",
       "      <td>5</td>\n",
       "      <td>https://www.ebay.com/itm/Amazonbasics-Nylon-Cd...</td>\n",
       "      <td>Great case to keep everything in its place! My...</td>\n",
       "      <td>Excellent product</td>\n",
       "      <td>qs341_5</td>\n",
       "      <td>https://www.ebay.com/itm/AmazonBasics-Nylon-CD...</td>\n",
       "      <td>[great, case, place, husband, love, holds, lot...</td>\n",
       "    </tr>\n",
       "    <tr>\n",
       "      <th>1</th>\n",
       "      <td>AVpe7nGV1cnluZ0-aG2o</td>\n",
       "      <td>2014-10-28T11:14:38Z</td>\n",
       "      <td>2019-04-25T09:05:28Z</td>\n",
       "      <td>AmazonBasics Nylon CD/DVD Binder (400 Capacity)</td>\n",
       "      <td>B00DIHVMEA,B00EZ1ZTV0</td>\n",
       "      <td>amazonbasics</td>\n",
       "      <td>Audio &amp; Video Accessories,TV, Video &amp; Home Aud...</td>\n",
       "      <td>Electronics</td>\n",
       "      <td>http://ecx.images-amazon.com/images/I/41jQha7Z...</td>\n",
       "      <td>amazonbasicsnyloncddvdbinder400capacity/b00ez1...</td>\n",
       "      <td>...</td>\n",
       "      <td>NaN</td>\n",
       "      <td>NaN</td>\n",
       "      <td>NaN</td>\n",
       "      <td>5</td>\n",
       "      <td>http://www.amazon.co.uk/gp/product-reviews/B00...</td>\n",
       "      <td>After discarding and getting rid of broken cd ...</td>\n",
       "      <td>It was a much needed storage</td>\n",
       "      <td>Diablita</td>\n",
       "      <td>https://www.ebay.com/itm/AmazonBasics-Nylon-CD...</td>\n",
       "      <td>[discarding, getting, rid, broken, cd, cases, ...</td>\n",
       "    </tr>\n",
       "    <tr>\n",
       "      <th>2</th>\n",
       "      <td>AVpe7nGV1cnluZ0-aG2o</td>\n",
       "      <td>2014-10-28T11:14:38Z</td>\n",
       "      <td>2019-04-25T09:05:28Z</td>\n",
       "      <td>AmazonBasics Nylon CD/DVD Binder (400 Capacity)</td>\n",
       "      <td>B00DIHVMEA,B00EZ1ZTV0</td>\n",
       "      <td>amazonbasics</td>\n",
       "      <td>Audio &amp; Video Accessories,TV, Video &amp; Home Aud...</td>\n",
       "      <td>Electronics</td>\n",
       "      <td>http://ecx.images-amazon.com/images/I/41jQha7Z...</td>\n",
       "      <td>amazonbasicsnyloncddvdbinder400capacity/b00ez1...</td>\n",
       "      <td>...</td>\n",
       "      <td>NaN</td>\n",
       "      <td>NaN</td>\n",
       "      <td>NaN</td>\n",
       "      <td>5</td>\n",
       "      <td>https://www.ebay.com/itm/Amazonbasics-Nylon-Cd...</td>\n",
       "      <td>A few dollars more, but I am boycotting amazon</td>\n",
       "      <td>it was worth it</td>\n",
       "      <td>coldbloodblazing</td>\n",
       "      <td>https://www.ebay.com/itm/AmazonBasics-Nylon-CD...</td>\n",
       "      <td>[dollars, boycotting]</td>\n",
       "    </tr>\n",
       "    <tr>\n",
       "      <th>3</th>\n",
       "      <td>AVpe7nGV1cnluZ0-aG2o</td>\n",
       "      <td>2014-10-28T11:14:38Z</td>\n",
       "      <td>2019-04-25T09:05:28Z</td>\n",
       "      <td>AmazonBasics Nylon CD/DVD Binder (400 Capacity)</td>\n",
       "      <td>B00DIHVMEA,B00EZ1ZTV0</td>\n",
       "      <td>amazonbasics</td>\n",
       "      <td>Audio &amp; Video Accessories,TV, Video &amp; Home Aud...</td>\n",
       "      <td>Electronics</td>\n",
       "      <td>http://ecx.images-amazon.com/images/I/41jQha7Z...</td>\n",
       "      <td>amazonbasicsnyloncddvdbinder400capacity/b00ez1...</td>\n",
       "      <td>...</td>\n",
       "      <td>NaN</td>\n",
       "      <td>NaN</td>\n",
       "      <td>NaN</td>\n",
       "      <td>2</td>\n",
       "      <td>http://www.amazon.co.uk/gp/product-reviews/B00...</td>\n",
       "      <td>My initial impression of this was very good. T...</td>\n",
       "      <td>Not well designed, very tight when full. Becom...</td>\n",
       "      <td>Snrub</td>\n",
       "      <td>https://www.ebay.com/itm/AmazonBasics-Nylon-CD...</td>\n",
       "      <td>[initial, impression, good, material, nicer, s...</td>\n",
       "    </tr>\n",
       "    <tr>\n",
       "      <th>4</th>\n",
       "      <td>AVpfl8cLLJeJML43AE3S</td>\n",
       "      <td>2016-04-08T18:16:28Z</td>\n",
       "      <td>2019-04-25T08:51:22Z</td>\n",
       "      <td>Amazon Echo ‚Äì White</td>\n",
       "      <td>B01E6AO69U,B00L9EPT8O</td>\n",
       "      <td>amazon</td>\n",
       "      <td>Stereos,Remote Controls,Audio Docks &amp; Mini Spe...</td>\n",
       "      <td>Electronics</td>\n",
       "      <td>https://i.ebayimg.com/images/g/NWEAAOSwDehbdx6...</td>\n",
       "      <td>amazonechowhite/b00l9ept8o,amazonechowhite/b01...</td>\n",
       "      <td>...</td>\n",
       "      <td>NaN</td>\n",
       "      <td>NaN</td>\n",
       "      <td>NaN</td>\n",
       "      <td>5</td>\n",
       "      <td>https://www.newegg.com/Product/Product.aspx?It...</td>\n",
       "      <td>Pros: Standard Echo. Cons: Older generation Ec...</td>\n",
       "      <td>Arrived as described.</td>\n",
       "      <td>Anonymous</td>\n",
       "      <td>https://www.newegg.com/Product/Product.aspx?It...</td>\n",
       "      <td>[pros, standard, echo, cons, older, generation...</td>\n",
       "    </tr>\n",
       "  </tbody>\n",
       "</table>\n",
       "<p>5 rows × 25 columns</p>\n",
       "</div>"
      ],
      "text/plain": [
       "                     id             dateAdded           dateUpdated  \\\n",
       "0  AVpe7nGV1cnluZ0-aG2o  2014-10-28T11:14:38Z  2019-04-25T09:05:28Z   \n",
       "1  AVpe7nGV1cnluZ0-aG2o  2014-10-28T11:14:38Z  2019-04-25T09:05:28Z   \n",
       "2  AVpe7nGV1cnluZ0-aG2o  2014-10-28T11:14:38Z  2019-04-25T09:05:28Z   \n",
       "3  AVpe7nGV1cnluZ0-aG2o  2014-10-28T11:14:38Z  2019-04-25T09:05:28Z   \n",
       "4  AVpfl8cLLJeJML43AE3S  2016-04-08T18:16:28Z  2019-04-25T08:51:22Z   \n",
       "\n",
       "                                              name                  asins  \\\n",
       "0  AmazonBasics Nylon CD/DVD Binder (400 Capacity)  B00DIHVMEA,B00EZ1ZTV0   \n",
       "1  AmazonBasics Nylon CD/DVD Binder (400 Capacity)  B00DIHVMEA,B00EZ1ZTV0   \n",
       "2  AmazonBasics Nylon CD/DVD Binder (400 Capacity)  B00DIHVMEA,B00EZ1ZTV0   \n",
       "3  AmazonBasics Nylon CD/DVD Binder (400 Capacity)  B00DIHVMEA,B00EZ1ZTV0   \n",
       "4                            Amazon Echo ‚Äì White  B01E6AO69U,B00L9EPT8O   \n",
       "\n",
       "          brand                                         categories  \\\n",
       "0  amazonbasics  Audio & Video Accessories,TV, Video & Home Aud...   \n",
       "1  amazonbasics  Audio & Video Accessories,TV, Video & Home Aud...   \n",
       "2  amazonbasics  Audio & Video Accessories,TV, Video & Home Aud...   \n",
       "3  amazonbasics  Audio & Video Accessories,TV, Video & Home Aud...   \n",
       "4        amazon  Stereos,Remote Controls,Audio Docks & Mini Spe...   \n",
       "\n",
       "  primaryCategories                                          imageURLs  \\\n",
       "0       Electronics  http://ecx.images-amazon.com/images/I/41jQha7Z...   \n",
       "1       Electronics  http://ecx.images-amazon.com/images/I/41jQha7Z...   \n",
       "2       Electronics  http://ecx.images-amazon.com/images/I/41jQha7Z...   \n",
       "3       Electronics  http://ecx.images-amazon.com/images/I/41jQha7Z...   \n",
       "4       Electronics  https://i.ebayimg.com/images/g/NWEAAOSwDehbdx6...   \n",
       "\n",
       "                                                keys  ... reviews.doRecommend  \\\n",
       "0  amazonbasicsnyloncddvdbinder400capacity/b00ez1...  ...                 NaN   \n",
       "1  amazonbasicsnyloncddvdbinder400capacity/b00ez1...  ...                 NaN   \n",
       "2  amazonbasicsnyloncddvdbinder400capacity/b00ez1...  ...                 NaN   \n",
       "3  amazonbasicsnyloncddvdbinder400capacity/b00ez1...  ...                 NaN   \n",
       "4  amazonechowhite/b00l9ept8o,amazonechowhite/b01...  ...                 NaN   \n",
       "\n",
       "  reviews.id reviews.numHelpful reviews.rating  \\\n",
       "0        NaN                NaN              5   \n",
       "1        NaN                NaN              5   \n",
       "2        NaN                NaN              5   \n",
       "3        NaN                NaN              2   \n",
       "4        NaN                NaN              5   \n",
       "\n",
       "                                  reviews.sourceURLs  \\\n",
       "0  https://www.ebay.com/itm/Amazonbasics-Nylon-Cd...   \n",
       "1  http://www.amazon.co.uk/gp/product-reviews/B00...   \n",
       "2  https://www.ebay.com/itm/Amazonbasics-Nylon-Cd...   \n",
       "3  http://www.amazon.co.uk/gp/product-reviews/B00...   \n",
       "4  https://www.newegg.com/Product/Product.aspx?It...   \n",
       "\n",
       "                                        reviews.text  \\\n",
       "0  Great case to keep everything in its place! My...   \n",
       "1  After discarding and getting rid of broken cd ...   \n",
       "2     A few dollars more, but I am boycotting amazon   \n",
       "3  My initial impression of this was very good. T...   \n",
       "4  Pros: Standard Echo. Cons: Older generation Ec...   \n",
       "\n",
       "                                       reviews.title  reviews.username  \\\n",
       "0                                  Excellent product           qs341_5   \n",
       "1                       It was a much needed storage          Diablita   \n",
       "2                                    it was worth it  coldbloodblazing   \n",
       "3  Not well designed, very tight when full. Becom...             Snrub   \n",
       "4                              Arrived as described.         Anonymous   \n",
       "\n",
       "                                          sourceURLs  \\\n",
       "0  https://www.ebay.com/itm/AmazonBasics-Nylon-CD...   \n",
       "1  https://www.ebay.com/itm/AmazonBasics-Nylon-CD...   \n",
       "2  https://www.ebay.com/itm/AmazonBasics-Nylon-CD...   \n",
       "3  https://www.ebay.com/itm/AmazonBasics-Nylon-CD...   \n",
       "4  https://www.newegg.com/Product/Product.aspx?It...   \n",
       "\n",
       "                                              tokens  \n",
       "0  [great, case, place, husband, love, holds, lot...  \n",
       "1  [discarding, getting, rid, broken, cd, cases, ...  \n",
       "2                              [dollars, boycotting]  \n",
       "3  [initial, impression, good, material, nicer, s...  \n",
       "4  [pros, standard, echo, cons, older, generation...  \n",
       "\n",
       "[5 rows x 25 columns]"
      ]
     },
     "execution_count": 48,
     "metadata": {},
     "output_type": "execute_result"
    }
   ],
   "source": [
    "# Check df\n",
    "electronics.head()"
   ]
  },
  {
   "cell_type": "code",
   "execution_count": 70,
   "metadata": {},
   "outputs": [],
   "source": [
    "# Create dictionary representation of all words in corpus\n",
    "id2word = corpora.Dictionary(electronics['tokens'])"
   ]
  },
  {
   "cell_type": "code",
   "execution_count": 71,
   "metadata": {},
   "outputs": [
    {
     "data": {
      "text/plain": [
       "7011"
      ]
     },
     "execution_count": 71,
     "metadata": {},
     "output_type": "execute_result"
    }
   ],
   "source": [
    "len(id2word.keys())"
   ]
  },
  {
   "cell_type": "code",
   "execution_count": 74,
   "metadata": {},
   "outputs": [],
   "source": [
    "# Filter out extremes\n",
    "id2word.filter_extremes(no_below=5, no_above=0.95)"
   ]
  },
  {
   "cell_type": "code",
   "execution_count": 75,
   "metadata": {},
   "outputs": [
    {
     "data": {
      "text/plain": [
       "2612"
      ]
     },
     "execution_count": 75,
     "metadata": {},
     "output_type": "execute_result"
    }
   ],
   "source": [
    "len(id2word.keys())"
   ]
  },
  {
   "cell_type": "code",
   "execution_count": 84,
   "metadata": {},
   "outputs": [],
   "source": [
    "# Create bag of words representation of corpus\n",
    "corpus = [id2word.doc2bow(text) for text in electronics['tokens']]"
   ]
  },
  {
   "cell_type": "code",
   "execution_count": 82,
   "metadata": {},
   "outputs": [],
   "source": [
    "# Define coherence values computation\n",
    "def compute_coherence_values(dictionary, corpus, limit, start=2, step=3, passes=5):\n",
    "    \"\"\"\n",
    "    Compute c_v coherence for various number of topics.\n",
    "    \"\"\"\n",
    "    coherence_values = []\n",
    "    for iter_ in range(passes):\n",
    "        for num_topics in range(start, limit, step):\n",
    "            model = LdaMulticore(corpus=corpus, num_topics=num_topics, id2word=dictionary, workers=4)\n",
    "            coherencemodel = CoherenceModel(model=model, dictionary=dictionary, corpus=corpus, coherence='u_mass')\n",
    "            coherence_values.append({'pass': iter_,\n",
    "                                    'num_topics': num_topics,\n",
    "                                    'coherence_score': coherencemodel.get_coherence()\n",
    "                                    })\n",
    "    return coherence_values"
   ]
  },
  {
   "cell_type": "code",
   "execution_count": 85,
   "metadata": {},
   "outputs": [],
   "source": [
    "# Determine best number of topics to use\n",
    "coherence_values = compute_coherence_values(dictionary=id2word,\n",
    "                                           corpus=corpus,\n",
    "                                           limit=30)"
   ]
  },
  {
   "cell_type": "code",
   "execution_count": 87,
   "metadata": {},
   "outputs": [],
   "source": [
    "topic_coherence = pd.DataFrame.from_records(coherence_values)"
   ]
  },
  {
   "cell_type": "code",
   "execution_count": 88,
   "metadata": {},
   "outputs": [
    {
     "name": "stderr",
     "output_type": "stream",
     "text": [
      "/Users/loris/opt/anaconda3/envs/U4-Sl-NLP/lib/python3.7/site-packages/scipy/stats/stats.py:1713: FutureWarning: Using a non-tuple sequence for multidimensional indexing is deprecated; use `arr[tuple(seq)]` instead of `arr[seq]`. In the future this will be interpreted as an array index, `arr[np.array(seq)]`, which will result either in an error or a different result.\n",
      "  return np.add.reduce(sorted[indexer] * weights, axis=axis) / sumval\n"
     ]
    },
    {
     "data": {
      "image/png": "[encoded data removed]",
      "text/plain": [
       "<Figure size 432x288 with 1 Axes>"
      ]
     },
     "metadata": {
      "needs_background": "light"
     },
     "output_type": "display_data"
    }
   ],
   "source": [
    "# Visualize coherence scores\n",
    "import seaborn as sns\n",
    "\n",
    "ax = sns.lineplot(x='num_topics', y='coherence_score', data=topic_coherence)"
   ]
  },
  {
   "cell_type": "code",
   "execution_count": 89,
   "metadata": {},
   "outputs": [],
   "source": [
    "# Create LDA multicore\n",
    "lda = LdaMulticore(corpus=corpus,\n",
    "                  id2word=id2word,\n",
    "                  random_state=7,\n",
    "                  num_topics=5,\n",
    "                  passes=10,\n",
    "                  workers=4)"
   ]
  },
  {
   "cell_type": "code",
   "execution_count": 92,
   "metadata": {},
   "outputs": [
    {
     "name": "stdout",
     "output_type": "stream",
     "text": [
      "----Topic 0------\n",
      "loves bought old use easy\n",
      "\n",
      "----Topic 1------\n",
      "kids tablet great apps love\n",
      "\n",
      "----Topic 2------\n",
      "great price tablet good use\n",
      "\n",
      "----Topic 3------\n",
      "kindle great love easy screen\n",
      "\n",
      "----Topic 4------\n",
      "tablet good apps great price\n",
      "\n"
     ]
    }
   ],
   "source": [
    "# Clean up topics to make printable\n",
    "words = [re.findall(r'\"([^\"]*)\"',t[1]) for t in lda.print_topics()]\n",
    "topics = [' '.join(t[0:5]) for t in words]\n",
    "for id, t in enumerate(topics):\n",
    "    print(f\"----Topic {id}------\")\n",
    "    print(t, end=\"\\n\\n\")"
   ]
  },
  {
   "cell_type": "code",
   "execution_count": 93,
   "metadata": {},
   "outputs": [
    {
     "name": "stderr",
     "output_type": "stream",
     "text": [
      "/Users/loris/opt/anaconda3/envs/U4-Sl-NLP/lib/python3.7/site-packages/pyLDAvis/_prepare.py:257: FutureWarning: Sorting because non-concatenation axis is not aligned. A future version\n",
      "of pandas will change to not sort by default.\n",
      "\n",
      "To accept the future behavior, pass 'sort=False'.\n",
      "\n",
      "To retain the current behavior and silence the warning, pass 'sort=True'.\n",
      "\n",
      "  return pd.concat([default_term_info] + list(topic_dfs))\n"
     ]
    },
    {
     "data": {
      "text/html": [
       "\n",
       "<link rel=\"stylesheet\" type=\"text/css\" href=\"https://cdn.rawgit.com/bmabey/pyLDAvis/files/ldavis.v1.0.0.css\">\n",
       "\n",
       "\n",
       "<div id=\"ldavis_el25947007618085106571691\"></div>\n",
       "<script type=\"text/javascript\">\n",
       "\n",
       "var ldavis_el25947007618085106571691_data = {\"mdsDat\": {\"x\": [0.036385318926047745, 0.08576266708028922, 0.10998056795378221, -0.034945816671781524, -0.19718273728833766], \"y\": [0.098335060487117, -0.0627892134425455, 0.05816647158375977, -0.1421909089896535, 0.0484785903613222], \"topics\": [1, 2, 3, 4, 5], \"cluster\": [1, 1, 1, 1, 1], \"Freq\": [24.651010513305664, 20.921955108642578, 18.672348022460938, 17.92548370361328, 17.82920265197754]}, \"tinfo\": {\"Category\": [\"Default\", \"Default\", \"Default\", \"Default\", \"Default\", \"Default\", \"Default\", \"Default\", \"Default\", \"Default\", \"Default\", \"Default\", \"Default\", \"Default\", \"Default\", \"Default\", \"Default\", \"Default\", \"Default\", \"Default\", \"Default\", \"Default\", \"Default\", \"Default\", \"Default\", \"Default\", \"Default\", \"Default\", \"Default\", \"Default\", \"Topic1\", \"Topic1\", \"Topic1\", \"Topic1\", \"Topic1\", \"Topic1\", \"Topic1\", \"Topic1\", \"Topic1\", \"Topic1\", \"Topic1\", \"Topic1\", \"Topic1\", \"Topic1\", \"Topic1\", \"Topic1\", \"Topic1\", \"Topic1\", \"Topic1\", \"Topic1\", \"Topic1\", \"Topic1\", \"Topic1\", \"Topic1\", \"Topic1\", \"Topic1\", \"Topic1\", \"Topic1\", \"Topic1\", \"Topic1\", \"Topic1\", \"Topic1\", \"Topic1\", \"Topic1\", \"Topic1\", \"Topic1\", \"Topic1\", \"Topic1\", \"Topic1\", \"Topic1\", \"Topic1\", \"Topic1\", \"Topic1\", \"Topic1\", \"Topic1\", \"Topic1\", \"Topic1\", \"Topic1\", \"Topic1\", \"Topic1\", \"Topic1\", \"Topic1\", \"Topic1\", \"Topic1\", \"Topic1\", \"Topic1\", \"Topic1\", \"Topic1\", \"Topic1\", \"Topic1\", \"Topic1\", \"Topic1\", \"Topic1\", \"Topic1\", \"Topic1\", \"Topic1\", \"Topic1\", \"Topic1\", \"Topic1\", \"Topic1\", \"Topic1\", \"Topic1\", \"Topic1\", \"Topic2\", \"Topic2\", \"Topic2\", \"Topic2\", \"Topic2\", \"Topic2\", \"Topic2\", \"Topic2\", \"Topic2\", \"Topic2\", \"Topic2\", \"Topic2\", \"Topic2\", \"Topic2\", \"Topic2\", \"Topic2\", \"Topic2\", \"Topic2\", \"Topic2\", \"Topic2\", \"Topic2\", \"Topic2\", \"Topic2\", \"Topic2\", \"Topic2\", \"Topic2\", \"Topic2\", \"Topic2\", \"Topic2\", \"Topic2\", \"Topic2\", \"Topic2\", \"Topic2\", \"Topic2\", \"Topic2\", \"Topic2\", \"Topic2\", \"Topic2\", \"Topic2\", \"Topic2\", \"Topic2\", \"Topic2\", \"Topic2\", \"Topic2\", \"Topic2\", \"Topic2\", \"Topic2\", \"Topic2\", \"Topic2\", \"Topic2\", \"Topic2\", \"Topic2\", \"Topic2\", \"Topic2\", \"Topic2\", \"Topic2\", \"Topic2\", \"Topic2\", \"Topic2\", \"Topic2\", \"Topic2\", \"Topic2\", \"Topic2\", \"Topic2\", \"Topic2\", \"Topic2\", \"Topic2\", \"Topic2\", \"Topic2\", \"Topic2\", \"Topic2\", \"Topic2\", \"Topic2\", \"Topic2\", \"Topic2\", \"Topic2\", \"Topic2\", \"Topic2\", \"Topic2\", \"Topic2\", \"Topic2\", \"Topic2\", \"Topic2\", \"Topic2\", \"Topic2\", \"Topic2\", \"Topic3\", \"Topic3\", \"Topic3\", \"Topic3\", \"Topic3\", \"Topic3\", \"Topic3\", \"Topic3\", \"Topic3\", \"Topic3\", \"Topic3\", \"Topic3\", \"Topic3\", \"Topic3\", \"Topic3\", \"Topic3\", \"Topic3\", \"Topic3\", \"Topic3\", \"Topic3\", \"Topic3\", \"Topic3\", \"Topic3\", \"Topic3\", \"Topic3\", \"Topic3\", \"Topic3\", \"Topic3\", \"Topic3\", \"Topic3\", \"Topic3\", \"Topic3\", \"Topic3\", \"Topic3\", \"Topic3\", \"Topic3\", \"Topic3\", \"Topic3\", \"Topic3\", \"Topic3\", \"Topic3\", \"Topic3\", \"Topic3\", \"Topic3\", \"Topic3\", \"Topic3\", \"Topic3\", \"Topic3\", \"Topic3\", \"Topic3\", \"Topic3\", \"Topic3\", \"Topic3\", \"Topic3\", \"Topic3\", \"Topic3\", \"Topic3\", \"Topic3\", \"Topic3\", \"Topic3\", \"Topic3\", \"Topic3\", \"Topic3\", \"Topic3\", \"Topic3\", \"Topic3\", \"Topic3\", \"Topic3\", \"Topic3\", \"Topic3\", \"Topic3\", \"Topic3\", \"Topic3\", \"Topic4\", \"Topic4\", \"Topic4\", \"Topic4\", \"Topic4\", \"Topic4\", \"Topic4\", \"Topic4\", \"Topic4\", \"Topic4\", \"Topic4\", \"Topic4\", \"Topic4\", \"Topic4\", \"Topic4\", \"Topic4\", \"Topic4\", \"Topic4\", \"Topic4\", \"Topic4\", \"Topic4\", \"Topic4\", \"Topic4\", \"Topic4\", \"Topic4\", \"Topic4\", \"Topic4\", \"Topic4\", \"Topic4\", \"Topic4\", \"Topic4\", \"Topic4\", \"Topic4\", \"Topic4\", \"Topic4\", \"Topic4\", \"Topic4\", \"Topic4\", \"Topic4\", \"Topic4\", \"Topic4\", \"Topic4\", \"Topic4\", \"Topic4\", \"Topic4\", \"Topic4\", \"Topic4\", \"Topic4\", \"Topic4\", \"Topic4\", \"Topic4\", \"Topic4\", \"Topic4\", \"Topic4\", \"Topic4\", \"Topic4\", \"Topic4\", \"Topic4\", \"Topic4\", \"Topic4\", \"Topic4\", \"Topic4\", \"Topic4\", \"Topic4\", \"Topic4\", \"Topic4\", \"Topic4\", \"Topic4\", \"Topic4\", \"Topic4\", \"Topic4\", \"Topic4\", \"Topic4\", \"Topic4\", \"Topic4\", \"Topic4\", \"Topic5\", \"Topic5\", \"Topic5\", \"Topic5\", \"Topic5\", \"Topic5\", \"Topic5\", \"Topic5\", \"Topic5\", \"Topic5\", \"Topic5\", \"Topic5\", \"Topic5\", \"Topic5\", \"Topic5\", \"Topic5\", \"Topic5\", \"Topic5\", \"Topic5\", \"Topic5\", \"Topic5\", \"Topic5\", \"Topic5\", \"Topic5\", \"Topic5\", \"Topic5\", \"Topic5\", \"Topic5\", \"Topic5\", \"Topic5\", \"Topic5\", \"Topic5\", \"Topic5\", \"Topic5\", \"Topic5\", \"Topic5\", \"Topic5\", \"Topic5\", \"Topic5\", \"Topic5\", \"Topic5\", \"Topic5\", \"Topic5\", \"Topic5\", \"Topic5\", \"Topic5\", \"Topic5\", \"Topic5\", \"Topic5\", \"Topic5\", \"Topic5\", \"Topic5\", \"Topic5\", \"Topic5\", \"Topic5\", \"Topic5\", \"Topic5\", \"Topic5\", \"Topic5\", \"Topic5\", \"Topic5\", \"Topic5\", \"Topic5\", \"Topic5\", \"Topic5\", \"Topic5\"], \"Freq\": [1736.0, 1745.0, 1660.0, 1290.0, 2039.0, 2287.0, 2340.0, 2310.0, 865.0, 666.0, 2474.0, 739.0, 728.0, 1541.0, 4995.0, 2417.0, 5977.0, 3062.0, 914.0, 593.0, 351.0, 321.0, 960.0, 443.0, 1369.0, 300.0, 539.0, 244.0, 315.0, 233.0, 146.4697723388672, 54.238677978515625, 111.4072036743164, 46.729225158691406, 38.287986755371094, 25.870458602905273, 27.967506408691406, 64.80547332763672, 21.20527458190918, 23.3359375, 22.508224487304688, 19.764942169189453, 22.57236671447754, 49.72810363769531, 13.5117769241333, 13.085010528564453, 15.311610221862793, 36.64616775512695, 13.778011322021484, 12.29914665222168, 12.254779815673828, 13.959397315979004, 137.5632781982422, 11.018482208251953, 16.723125457763672, 12.728761672973633, 11.417905807495117, 10.422407150268555, 11.407449722290039, 10.091626167297363, 239.5449676513672, 124.78011322021484, 327.50885009765625, 51.0540885925293, 359.94500732421875, 131.31845092773438, 744.5819702148438, 703.3955078125, 151.55160522460938, 116.70973205566406, 1656.0355224609375, 78.82215118408203, 52.313194274902344, 485.0437927246094, 155.23226928710938, 317.7269592285156, 457.0928649902344, 830.0302124023438, 767.748046875, 65.0217056274414, 318.54095458984375, 109.96737670898438, 368.7059631347656, 414.73321533203125, 126.48279571533203, 970.258056640625, 284.6338195800781, 910.6574096679688, 277.94903564453125, 345.5684814453125, 336.3612060546875, 1100.9791259765625, 788.5731811523438, 359.14886474609375, 330.7580871582031, 345.5111999511719, 652.0864868164062, 314.00323486328125, 217.22792053222656, 340.87738037109375, 337.1818542480469, 249.58273315429688, 261.2174377441406, 23.530582427978516, 31.625579833984375, 25.497777938842773, 22.725040435791016, 19.94487953186035, 30.25709342956543, 19.758708953857422, 18.38075065612793, 20.671369552612305, 91.78467559814453, 263.38330078125, 16.317777633666992, 23.555837631225586, 16.201019287109375, 13.5111722946167, 13.945104598999023, 22.13997459411621, 13.367157936096191, 11.667798042297363, 14.22362995147705, 11.350897789001465, 18.0329647064209, 11.19015884399414, 12.822604179382324, 9.54321002960205, 9.538727760314941, 10.22166919708252, 9.814406394958496, 21.97481918334961, 9.511621475219727, 388.0445251464844, 116.91091918945312, 18.604097366333008, 20.204435348510742, 21.704931259155273, 66.98251342773438, 48.654232025146484, 401.4918212890625, 29.453489303588867, 26.24288558959961, 53.46535873413086, 103.44501495361328, 111.6432113647461, 305.2302551269531, 173.20591735839844, 43.46808624267578, 66.99048614501953, 58.212215423583984, 97.40327453613281, 66.10469818115234, 72.41299438476562, 74.44159698486328, 255.75123596191406, 671.9876098632812, 1871.7264404296875, 353.2691345214844, 84.68356323242188, 826.5648193359375, 242.24655151367188, 111.69767761230469, 195.7318115234375, 137.7404327392578, 350.4587707519531, 64.8406982421875, 229.15533447265625, 485.1701965332031, 110.57868194580078, 97.53262329101562, 135.09771728515625, 204.11778259277344, 571.8267822265625, 291.031005859375, 359.6719055175781, 407.91461181640625, 164.32044982910156, 130.56900024414062, 211.66409301757812, 231.57791137695312, 221.6918487548828, 151.33836364746094, 175.76577758789062, 224.37994384765625, 195.70797729492188, 144.70684814453125, 150.69345092773438, 146.67201232910156, 232.2633819580078, 242.50941467285156, 50.00096893310547, 73.60975646972656, 47.90011978149414, 26.809114456176758, 22.89228630065918, 203.2408447265625, 14.886287689208984, 15.669848442077637, 12.722797393798828, 12.591899871826172, 12.90588665008545, 281.971923828125, 17.263578414916992, 12.336100578308105, 14.437538146972656, 12.480167388916016, 327.0928649902344, 11.290183067321777, 11.607468605041504, 13.859807014465332, 10.118229866027832, 21.990726470947266, 9.525381088256836, 9.520902633666992, 11.595422744750977, 10.082806587219238, 27.72503089904785, 13.534990310668945, 192.57550048828125, 16.34913444519043, 174.2129364013672, 16.84339714050293, 143.53512573242188, 92.96945190429688, 427.447998046875, 30.54903793334961, 25.119552612304688, 160.34719848632812, 314.5343933105469, 190.60049438476562, 1218.2259521484375, 33.6915397644043, 38.817928314208984, 32.883060455322266, 133.6002655029297, 135.4403076171875, 1896.55908203125, 94.94377136230469, 929.1317138671875, 164.2803497314453, 65.13613891601562, 188.14842224121094, 76.1258316040039, 422.9517517089844, 67.01406860351562, 123.94291687011719, 335.20257568359375, 294.7458190917969, 205.607666015625, 1129.7744140625, 160.92733764648438, 265.837646484375, 271.7973937988281, 574.3348999023438, 241.07254028320312, 262.7252502441406, 248.0036163330078, 216.85984802246094, 192.6946563720703, 183.5810089111328, 178.46836853027344, 36.735164642333984, 309.1895446777344, 15.805643081665039, 13.644062995910645, 13.008121490478516, 18.456066131591797, 29.32951545715332, 13.568693161010742, 11.817728996276855, 14.18474006652832, 46.35535430908203, 11.746402740478516, 70.79473114013672, 213.77017211914062, 85.3628921508789, 12.681609153747559, 37.58302688598633, 52.868167877197266, 23.118337631225586, 12.2432279586792, 21.47125244140625, 61.669681549072266, 9.28223705291748, 26.09505271911621, 9.369285583496094, 71.26570892333984, 9.150055885314941, 55.829933166503906, 13.130660057067871, 7.681857585906982, 17.962759017944336, 1469.8558349609375, 76.43633270263672, 282.8009033203125, 145.3435516357422, 141.212646484375, 61.07860565185547, 133.8783721923828, 79.27508544921875, 27.504758834838867, 251.20794677734375, 68.3235092163086, 50.54663848876953, 32.34054946899414, 293.81182861328125, 47.018856048583984, 88.24348449707031, 198.75962829589844, 470.7563171386719, 191.88194274902344, 113.23607635498047, 290.3055725097656, 617.8603515625, 309.8717041015625, 509.42633056640625, 149.8266143798828, 1316.676513671875, 272.3221740722656, 123.28072357177734, 611.2553100585938, 238.27577209472656, 328.76629638671875, 764.883544921875, 363.89501953125, 257.28765869140625, 124.6323471069336, 233.45907592773438, 270.9412536621094, 140.78616333007812, 160.01333618164062, 221.46827697753906, 157.71827697753906, 185.2472686767578, 164.86349487304688, 170.08897399902344, 158.98733520507812, 1661.2548828125, 146.5294952392578, 26.729381561279297, 16.954994201660156, 71.78636932373047, 13.8660249710083, 12.13060474395752, 112.4526138305664, 11.407339096069336, 114.76637268066406, 19.434856414794922, 9.101110458374023, 140.33767700195312, 11.673269271850586, 7.60263204574585, 123.52870178222656, 47.54764938354492, 7.44251012802124, 47.2879524230957, 133.83096313476562, 6.290513515472412, 6.288897514343262, 6.258929252624512, 7.477985858917236, 264.03143310546875, 6.9791789054870605, 9.630698204040527, 276.2157287597656, 6.335137844085693, 5.739996433258057, 575.681396484375, 180.68092346191406, 117.43511199951172, 25.798479080200195, 31.456439971923828, 24.683300018310547, 590.9886474609375, 210.25479125976562, 565.228515625, 659.5938110351562, 47.360538482666016, 1212.8798828125, 294.4252624511719, 925.3131103515625, 112.36495971679688, 158.68817138671875, 200.1012420654297, 92.78477478027344, 100.72003173828125, 1277.7779541015625, 100.1679458618164, 1061.8507080078125, 164.06385803222656, 1121.47509765625, 400.7576904296875, 402.25128173828125, 720.7109985351562, 190.54197692871094, 1007.07568359375, 375.6517639160156, 660.8411254882812, 251.0562744140625, 215.80813598632812, 287.6571350097656, 168.3700714111328, 156.47213745117188], \"Term\": [\"loves\", \"kids\", \"old\", \"year\", \"price\", \"bought\", \"easy\", \"kindle\", \"gift\", \"christmas\", \"love\", \"daughter\", \"son\", \"apps\", \"great\", \"good\", \"tablet\", \"use\", \"read\", \"quality\", \"sound\", \"parental\", \"reading\", \"google\", \"screen\", \"alexa\", \"store\", \"tap\", \"granddaughter\", \"echo\", \"voyage\", \"crisp\", \"paperwhite\", \"paper\", \"oasis\", \"dark\", \"backlight\", \"lighter\", \"sensitive\", \"pics\", \"auto\", \"glare\", \"sunlight\", \"readers\", \"operation\", \"lighted\", \"lit\", \"browse\", \"clean\", \"fianc\", \"shade\", \"concerned\", \"weight\", \"voyager\", \"strain\", \"quicker\", \"instantly\", \"conditions\", \"readable\", \"lunch\", \"book\", \"page\", \"reader\", \"white\", \"light\", \"previous\", \"reading\", \"read\", \"upgrade\", \"inch\", \"kindle\", \"generation\", \"text\", \"hd\", \"faster\", \"life\", \"battery\", \"screen\", \"books\", \"buttons\", \"happy\", \"bigger\", \"new\", \"size\", \"resolution\", \"love\", \"purchase\", \"easy\", \"movies\", \"better\", \"nice\", \"great\", \"use\", \"best\", \"buy\", \"like\", \"tablet\", \"product\", \"far\", \"bought\", \"good\", \"works\", \"games\", \"bang\", \"magazine\", \"buck\", \"damaged\", \"installing\", \"freezes\", \"playstore\", \"rid\", \"transferred\", \"install\", \"android\", \"rooting\", \"transfer\", \"wallpaper\", \"clicking\", \"randomly\", \"fraction\", \"kiddos\", \"regularly\", \"bugs\", \"closes\", \"sign\", \"crush\", \"abuse\", \"reputable\", \"lg\", \"requirements\", \"candy\", \"adapter\", \"plugs\", \"google\", \"charger\", \"extended\", \"tag\", \"microsd\", \"port\", \"operating\", \"store\", \"adds\", \"ecosystem\", \"dollars\", \"ads\", \"pay\", \"app\", \"wifi\", \"close\", \"installed\", \"runs\", \"load\", \"expect\", \"photos\", \"tried\", \"work\", \"apps\", \"tablet\", \"device\", \"issue\", \"good\", \"need\", \"charging\", \"download\", \"available\", \"play\", \"couple\", \"tablets\", \"price\", \"issues\", \"cheap\", \"charge\", \"ipad\", \"great\", \"like\", \"bought\", \"use\", \"far\", \"ve\", \"works\", \"screen\", \"games\", \"lot\", \"best\", \"kindle\", \"easy\", \"internet\", \"battery\", \"little\", \"echo\", \"tap\", \"dot\", \"voice\", \"portability\", \"holidays\", \"junk\", \"speaker\", \"pen\", \"pandora\", \"contents\", \"packed\", \"enabled\", \"alexa\", \"visuals\", \"holiday\", \"worries\", \"explored\", \"sound\", \"tooth\", \"bass\", \"spotify\", \"afford\", \"mobile\", \"mines\", \"inches\", \"usual\", \"quirks\", \"commands\", \"alarm\", \"friday\", \"certainly\", \"laptop\", \"paying\", \"portable\", \"bluetooth\", \"quality\", \"backpack\", \"tabs\", \"beat\", \"music\", \"black\", \"price\", \"weather\", \"savvy\", \"audible\", \"family\", \"picture\", \"great\", \"affordable\", \"good\", \"value\", \"media\", \"prime\", \"unit\", \"product\", \"job\", \"deal\", \"works\", \"size\", \"features\", \"tablet\", \"money\", \"nice\", \"perfect\", \"use\", \"recommend\", \"like\", \"bought\", \"screen\", \"gift\", \"better\", \"purchased\", \"proof\", \"parental\", \"inappropriate\", \"programming\", \"glitch\", \"cartoons\", \"preloaded\", \"block\", \"freezing\", \"unlock\", \"purchases\", \"registered\", \"limits\", \"controls\", \"worry\", \"bc\", \"protected\", \"unlimited\", \"underground\", \"engaged\", \"create\", \"profile\", \"hes\", \"credit\", \"reboot\", \"limit\", \"entertain\", \"protection\", \"dead\", \"commercials\", \"falls\", \"kids\", \"appropriate\", \"child\", \"educational\", \"content\", \"adult\", \"control\", \"edition\", \"homework\", \"kid\", \"adults\", \"parent\", \"profiles\", \"free\", \"bumper\", \"young\", \"friendly\", \"time\", \"children\", \"age\", \"case\", \"apps\", \"little\", \"games\", \"user\", \"tablet\", \"ipad\", \"times\", \"love\", \"set\", \"play\", \"great\", \"like\", \"buy\", \"lots\", \"best\", \"year\", \"learning\", \"movies\", \"good\", \"tablets\", \"old\", \"product\", \"use\", \"perfect\", \"loves\", \"birthday\", \"youngest\", \"grandaughter\", \"law\", \"logic\", \"numbers\", \"nephew\", \"autism\", \"enjoys\", \"recipient\", \"fb\", \"mother\", \"girlfriend\", \"jealous\", \"niece\", \"father\", \"alphabet\", \"grandchildren\", \"likes\", \"mickey\", \"clubhouse\", \"characters\", \"shapes\", \"loved\", \"sisters\", \"kiddo\", \"granddaughter\", \"tank\", \"theres\", \"christmas\", \"mom\", \"present\", \"grandchild\", \"hasn\", \"grandsons\", \"daughter\", \"yr\", \"son\", \"gift\", \"brought\", \"old\", \"grandson\", \"year\", \"grandkids\", \"absolutely\", \"uses\", \"grand\", \"husband\", \"bought\", \"plays\", \"easy\", \"durable\", \"use\", \"got\", \"purchased\", \"love\", \"wife\", \"tablet\", \"games\", \"great\", \"books\", \"perfect\", \"kindle\", \"recommend\", \"product\"], \"Total\": [1736.0, 1745.0, 1660.0, 1290.0, 2039.0, 2287.0, 2340.0, 2310.0, 865.0, 666.0, 2474.0, 739.0, 728.0, 1541.0, 4995.0, 2417.0, 5977.0, 3062.0, 914.0, 593.0, 351.0, 321.0, 960.0, 443.0, 1369.0, 300.0, 539.0, 244.0, 315.0, 233.0, 147.55322265625, 55.17509078979492, 113.43224334716797, 48.026981353759766, 39.591800689697266, 26.75977897644043, 29.00631332397461, 67.21961975097656, 22.030736923217773, 24.309795379638672, 23.4810848236084, 20.62285804748535, 23.779701232910156, 52.65890121459961, 14.322845458984375, 13.878398895263672, 16.241518020629883, 38.94203567504883, 14.659780502319336, 13.090935707092285, 13.084720611572266, 14.92390251159668, 147.66668701171875, 11.85081672668457, 17.992780685424805, 13.699892044067383, 12.300472259521484, 11.230428695678711, 12.296563148498535, 10.895048141479492, 260.4974365234375, 140.99911499023438, 380.67999267578125, 56.781036376953125, 432.7686462402344, 154.20559692382812, 960.5626220703125, 914.352783203125, 182.03195190429688, 139.0752410888672, 2310.580078125, 92.34154510498047, 60.1432991027832, 655.198486328125, 193.76429748535156, 431.568115234375, 685.0953369140625, 1369.1068115234375, 1258.14794921875, 77.41326141357422, 517.6328125, 148.71548461914062, 668.3576049804688, 796.2924194335938, 181.11648559570312, 2474.0615234375, 515.3499755859375, 2340.47900390625, 571.6520385742188, 785.3541259765625, 807.7615356445312, 4995.08984375, 3062.38671875, 912.9752197265625, 940.178466796875, 1384.591552734375, 5977.33935546875, 1171.408203125, 499.9389953613281, 2287.87353515625, 2417.946533203125, 944.4271240234375, 1426.7071533203125, 24.36208724975586, 32.86288833618164, 26.522045135498047, 23.693851470947266, 20.835250854492188, 31.60848617553711, 20.6608829498291, 19.283504486083984, 21.697050094604492, 96.36493682861328, 276.70245361328125, 17.143226623535156, 24.788997650146484, 17.14305877685547, 14.321901321411133, 14.825189590454102, 23.55921745300293, 14.313642501831055, 12.504831314086914, 15.246362686157227, 12.178969383239746, 19.42283821105957, 12.061134338378906, 13.895238876342773, 10.3570556640625, 10.356566429138184, 11.12371826171875, 10.683931350708008, 23.92312240600586, 10.358482360839844, 443.8232116699219, 130.99168395996094, 20.551395416259766, 22.41184425354004, 24.177431106567383, 79.34754943847656, 56.85374069213867, 539.8092041015625, 33.54747772216797, 29.682626724243164, 63.92769241333008, 131.3929901123047, 146.03863525390625, 449.7759704589844, 240.0280303955078, 51.95846939086914, 84.9664306640625, 73.00733947753906, 132.255126953125, 86.13211822509766, 96.59503936767578, 101.75897216796875, 454.1158142089844, 1541.0888671875, 5977.33935546875, 767.1952514648438, 127.56279754638672, 2417.946533203125, 502.6752014160156, 184.96803283691406, 409.34783935546875, 257.16192626953125, 983.2990112304688, 92.57513427734375, 627.3342895507812, 2039.2950439453125, 215.6696319580078, 174.74093627929688, 308.5238037109375, 660.3331298828125, 4995.08984375, 1384.591552734375, 2287.87353515625, 3062.38671875, 499.9389953613281, 313.2046813964844, 944.4271240234375, 1369.1068115234375, 1426.7071533203125, 465.5819091796875, 912.9752197265625, 2310.580078125, 2340.47900390625, 449.6269226074219, 685.0953369140625, 647.8988037109375, 233.8873748779297, 244.97747802734375, 50.85758590698242, 74.91828918457031, 49.42642593383789, 27.749406814575195, 23.717283248901367, 212.13153076171875, 15.691362380981445, 16.570520401000977, 13.51662540435791, 13.407050132751465, 13.758925437927246, 300.7694396972656, 18.4173641204834, 13.212054252624512, 15.471693992614746, 13.392149925231934, 351.0028991699219, 12.11960220336914, 12.472261428833008, 14.918725967407227, 10.94133186340332, 23.788860321044922, 10.306354522705078, 10.305153846740723, 12.570429801940918, 10.93410873413086, 30.084489822387695, 14.69318675994873, 218.8851318359375, 17.838415145874023, 207.29220581054688, 18.5709228515625, 173.18560791015625, 113.70426940917969, 593.0087280273438, 35.26192855834961, 28.630340576171875, 215.55917358398438, 453.448974609375, 263.57879638671875, 2039.2950439453125, 40.14222717285156, 47.139102935791016, 39.41608810424805, 199.84654235839844, 213.45785522460938, 4995.08984375, 146.00221252441406, 2417.946533203125, 296.9554443359375, 94.82183074951172, 382.9600830078125, 117.29338836669922, 1171.408203125, 99.97722625732422, 233.7935791015625, 944.4271240234375, 796.2924194335938, 494.4239196777344, 5977.33935546875, 353.5726013183594, 807.7615356445312, 844.587890625, 3062.38671875, 731.141357421875, 1384.591552734375, 2287.87353515625, 1369.1068115234375, 865.39111328125, 785.3541259765625, 939.5244140625, 37.97952651977539, 321.86407470703125, 16.659345626831055, 14.515557289123535, 13.845186233520508, 19.711088180541992, 31.33500862121582, 14.527148246765137, 12.655973434448242, 15.204626083374023, 49.90760803222656, 12.654351234436035, 76.3048095703125, 230.76519775390625, 92.29852294921875, 13.74225902557373, 40.778499603271484, 57.43775177001953, 25.2078914642334, 13.355029106140137, 23.421344757080078, 67.31268310546875, 10.132622718811035, 28.529850006103516, 10.286378860473633, 78.3597183227539, 10.153583526611328, 62.039939880371094, 14.597616195678711, 8.565553665161133, 20.11277961730957, 1745.1959228515625, 89.88249206542969, 365.8241882324219, 181.90496826171875, 176.87791442871094, 73.11083221435547, 171.15158081054688, 99.44914245605469, 31.690378189086914, 366.54364013671875, 86.51536560058594, 62.09053039550781, 37.88991928100586, 447.3186340332031, 57.46814727783203, 119.99372100830078, 310.3746337890625, 957.6954345703125, 324.917724609375, 171.7405242919922, 560.870849609375, 1541.0888671875, 647.8988037109375, 1426.7071533203125, 271.7593994140625, 5977.33935546875, 660.3331298828125, 210.5436248779297, 2474.0615234375, 580.8017578125, 983.2990112304688, 4995.08984375, 1384.591552734375, 940.178466796875, 237.2947235107422, 912.9752197265625, 1290.724609375, 328.7137451171875, 571.6520385742188, 2417.946533203125, 627.3342895507812, 1660.92333984375, 1171.408203125, 3062.38671875, 844.587890625, 1736.1270751953125, 153.82672119140625, 28.204631805419922, 17.901866912841797, 75.99383544921875, 14.717223167419434, 12.992265701293945, 121.22386169433594, 12.318060874938965, 124.90077209472656, 21.16670036315918, 10.007182121276855, 155.75875854492188, 12.97133731842041, 8.488070487976074, 138.13943481445312, 53.32508087158203, 8.348612785339355, 53.05721664428711, 150.61997985839844, 7.113365173339844, 7.113556385040283, 7.113887786865234, 8.506158828735352, 301.3507385253906, 7.965811252593994, 10.992460250854492, 315.49078369140625, 7.239480018615723, 6.572261333465576, 666.5670166015625, 208.2158203125, 136.10009765625, 29.6976318359375, 36.55402374267578, 28.611448287963867, 739.1478881835938, 259.6009826660156, 728.75390625, 865.39111328125, 56.407508850097656, 1660.92333984375, 384.768310546875, 1290.724609375, 141.88482666015625, 206.05345153808594, 269.44866943359375, 118.17657470703125, 129.96934509277344, 2287.87353515625, 132.75538635253906, 2340.47900390625, 252.5428466796875, 3062.38671875, 862.4534912109375, 939.5244140625, 2474.0615234375, 367.2591552734375, 5977.33935546875, 1426.7071533203125, 4995.08984375, 1258.14794921875, 844.587890625, 2310.580078125, 731.141357421875, 1171.408203125], \"loglift\": [30.0, 29.0, 28.0, 27.0, 26.0, 25.0, 24.0, 23.0, 22.0, 21.0, 20.0, 19.0, 18.0, 17.0, 16.0, 15.0, 14.0, 13.0, 12.0, 11.0, 10.0, 9.0, 8.0, 7.0, 6.0, 5.0, 4.0, 3.0, 2.0, 1.0, 1.3930000066757202, 1.3832000494003296, 1.3823000192642212, 1.3730000257492065, 1.3668999671936035, 1.3666000366210938, 1.3638999462127686, 1.363800048828125, 1.3622000217437744, 1.3595000505447388, 1.3580000400543213, 1.3579000234603882, 1.3481999635696411, 1.3430999517440796, 1.3421000242233276, 1.3415000438690186, 1.3414000272750854, 1.3395999670028687, 1.3382999897003174, 1.3380000591278076, 1.3348000049591064, 1.3335000276565552, 1.3294999599456787, 1.3274999856948853, 1.3272000551223755, 1.326799988746643, 1.3258999586105347, 1.325700044631958, 1.3252999782562256, 1.323799967765808, 1.316499948501587, 1.2782000303268433, 1.249899983406067, 1.2940000295639038, 1.2160999774932861, 1.2396999597549438, 1.1456999778747559, 1.138100028038025, 1.2171000242233276, 1.225000023841858, 1.0672999620437622, 1.2421000003814697, 1.2609000205993652, 1.0996999740600586, 1.1785999536514282, 1.094099998474121, 0.9957000017166138, 0.8999000191688538, 0.9064000248908997, 1.2259000539779663, 0.9147999882698059, 1.0985000133514404, 0.8054999709129333, 0.7480000257492065, 1.0413000583648682, 0.4643000066280365, 0.8066999912261963, 0.4564000070095062, 0.6793000102043152, 0.5794000029563904, 0.5242999792098999, -0.11190000176429749, 0.04360000044107437, 0.4674000144004822, 0.35569998621940613, 0.012199999764561653, -0.8151999711990356, 0.08380000293254852, 0.5667999982833862, -0.5034999847412109, -0.5697000026702881, 0.06960000097751617, -0.29739999771118164, 1.5296000242233276, 1.5260000228881836, 1.524999976158142, 1.5226000547409058, 1.5206999778747559, 1.5206999778747559, 1.519700050354004, 1.5163999795913696, 1.5159000158309937, 1.5156999826431274, 1.5149999856948853, 1.5149999856948853, 1.5132999420166016, 1.5078999996185303, 1.506100058555603, 1.5032000541687012, 1.5022000074386597, 1.496000051498413, 1.4951000213623047, 1.4948999881744385, 1.49399995803833, 1.4901000261306763, 1.489400029182434, 1.4839999675750732, 1.4824999570846558, 1.482100009918213, 1.4797999858856201, 1.4795000553131104, 1.4794000387191772, 1.479099988937378, 1.4300999641418457, 1.450600028038025, 1.4648000001907349, 1.4607000350952148, 1.4565000534057617, 1.3949999809265137, 1.4085999727249146, 1.2683000564575195, 1.4342000484466553, 1.4412000179290771, 1.385699987411499, 1.3251999616622925, 1.295799970626831, 1.1766999959945679, 1.2381000518798828, 1.3860000371932983, 1.32669997215271, 1.3379000425338745, 1.2584999799728394, 1.2997000217437744, 1.2762000560760498, 1.2517999410629272, 0.9901999831199646, 0.7343999743461609, 0.4032999873161316, 0.7889000177383423, 1.1547000408172607, 0.4909999966621399, 0.8343999981880188, 1.059999942779541, 0.8266000151634216, 0.9399999976158142, 0.5327000021934509, 1.208299994468689, 0.5572999715805054, 0.12849999964237213, 0.896399974822998, 0.9812999963760376, 0.7386000156402588, 0.3903000056743622, -0.6029999852180481, 0.004600000102072954, -0.2858000099658966, -0.4514999985694885, 0.45170000195503235, 0.6894000172615051, 0.06880000233650208, -0.2125999927520752, -0.29750001430511475, 0.4406000077724457, -0.08320000022649765, -0.7674999833106995, -0.9171000123023987, 0.43070000410079956, 0.05009999871253967, 0.07880000025033951, 1.6712000370025635, 1.6679999828338623, 1.6611000299453735, 1.6605000495910645, 1.6468000411987305, 1.6437000036239624, 1.642699956893921, 1.6353000402450562, 1.625499963760376, 1.6222000122070312, 1.6175999641418457, 1.615399956703186, 1.6140999794006348, 1.6136000156402588, 1.6133999824523926, 1.6095000505447388, 1.6088999509811401, 1.6075999736785889, 1.6075999736785889, 1.607200026512146, 1.6062999963760376, 1.6045000553131104, 1.5999000072479248, 1.5994999408721924, 1.5993000268936157, 1.5989999771118164, 1.5973999500274658, 1.597100019454956, 1.596500039100647, 1.5959999561309814, 1.5500999689102173, 1.59089994430542, 1.5042999982833862, 1.5805000066757202, 1.4903000593185425, 1.4767999649047852, 1.3508000373840332, 1.5347000360488892, 1.5472999811172485, 1.382200002670288, 1.3122999668121338, 1.3539999723434448, 1.1628999710083008, 1.5029000043869019, 1.4838999509811401, 1.496899962425232, 1.2754000425338745, 1.2231999635696411, 0.7096999883651733, 1.2477999925613403, 0.7217000126838684, 1.0860999822616577, 1.3026000261306763, 0.9674000144004822, 1.2458000183105469, 0.6593999862670898, 1.2781000137329102, 1.0434999465942383, 0.642300009727478, 0.6843000054359436, 0.8007000088691711, 0.012199999764561653, 0.890999972820282, 0.5666999816894531, 0.5443000197410583, 0.004399999976158142, 0.5685999989509583, 0.016100000590085983, -0.5437999963760376, -0.16449999809265137, 0.1761000007390976, 0.22460000216960907, 0.01720000058412552, 1.6856000423431396, 1.6787999868392944, 1.6663000583648682, 1.656999945640564, 1.656599998474121, 1.6532000303268433, 1.6527999639511108, 1.6506999731063843, 1.6504000425338745, 1.6495000123977661, 1.6450999975204468, 1.6445000171661377, 1.6440000534057617, 1.6424000263214111, 1.6407999992370605, 1.6385999917984009, 1.6373000144958496, 1.6360000371932983, 1.6324000358581543, 1.6319999694824219, 1.6319999694824219, 1.6313999891281128, 1.6312999725341797, 1.629699945449829, 1.625599980354309, 1.6240999698638916, 1.61489999294281, 1.6134999990463257, 1.6130000352859497, 1.6101000308990479, 1.6059000492095947, 1.5471999645233154, 1.5569000244140625, 1.4615000486373901, 1.4946000576019287, 1.4938000440597534, 1.5391000509262085, 1.4732999801635742, 1.4922000169754028, 1.577299952507019, 1.3410999774932861, 1.4829000234603882, 1.513200044631958, 1.5606000423431396, 1.2985999584197998, 1.5183000564575195, 1.4115999937057495, 1.273300051689148, 1.0088000297546387, 1.1922999620437622, 1.30239999294281, 1.0604000091552734, 0.8050000071525574, 0.9814000129699707, 0.6891000270843506, 1.1234999895095825, 0.2061000019311905, 0.8331999778747559, 1.1836999654769897, 0.3208000063896179, 0.828000009059906, 0.6233999729156494, -0.1574999988079071, 0.38269999623298645, 0.42309999465942383, 1.0750000476837158, 0.35519999265670776, 0.15790000557899475, 0.8709999918937683, 0.4456999897956848, -0.6714000105857849, 0.3382999897003174, -0.47450000047683716, -0.2418999969959259, -1.1717000007629395, 0.048900000751018524, 1.6801999807357788, 1.6756999492645264, 1.6706000566482544, 1.6699999570846558, 1.6674000024795532, 1.6648000478744507, 1.6556999683380127, 1.6491999626159668, 1.6475000381469727, 1.6397000551223755, 1.6390000581741333, 1.6294000148773193, 1.6201000213623047, 1.618899941444397, 1.6141999959945679, 1.6124999523162842, 1.6096999645233154, 1.6094000339508057, 1.6092000007629395, 1.6061999797821045, 1.6014000177383423, 1.601099967956543, 1.5963000059127808, 1.5954999923706055, 1.5921000242233276, 1.5921000242233276, 1.5921000242233276, 1.5914000272750854, 1.59089994430542, 1.5888999700546265, 1.5777000188827515, 1.5824999809265137, 1.576799988746643, 1.5836000442504883, 1.5741000175476074, 1.57669997215271, 1.500599980354309, 1.5134999752044678, 1.4701999425888062, 1.4528000354766846, 1.5494999885559082, 1.409999966621399, 1.4566999673843384, 1.3914999961853027, 1.4910999536514282, 1.4630999565124512, 1.426800012588501, 1.4823999404907227, 1.4694000482559204, 1.141800045967102, 1.4427000284194946, 0.9340000152587891, 1.2929999828338623, 0.7197999954223633, 0.9578999876976013, 0.8759999871253967, 0.4909999966621399, 1.0680999755859375, -0.05660000070929527, 0.38989999890327454, -0.29840001463890076, 0.11259999871253967, 0.35989999771118164, -0.35920000076293945, 0.25589999556541443, -0.2888000011444092], \"logprob\": [30.0, 29.0, 28.0, 27.0, 26.0, 25.0, 24.0, 23.0, 22.0, 21.0, 20.0, 19.0, 18.0, 17.0, 16.0, 15.0, 14.0, 13.0, 12.0, 11.0, 10.0, 9.0, 8.0, 7.0, 6.0, 5.0, 4.0, 3.0, 2.0, 1.0, -5.687900066375732, -6.681300163269043, -5.96150016784668, -6.8302998542785645, -7.029600143432617, -7.421599864959717, -7.343699932098389, -6.503300189971924, -7.620500087738037, -7.524700164794922, -7.560800075531006, -7.690800189971924, -7.558000087738037, -6.768099784851074, -8.071100234985352, -8.10319995880127, -7.946100234985352, -7.073400020599365, -8.051600456237793, -8.165200233459473, -8.168800354003906, -8.038599967956543, -5.7505998611450195, -8.275099754333496, -7.857900142669678, -8.130800247192383, -8.239500045776367, -8.330699920654297, -8.240400314331055, -8.36299991607666, -5.196000099182129, -5.848199844360352, -4.883200168609619, -6.741799831390381, -4.78879976272583, -5.797100067138672, -4.0619001388549805, -4.118800163269043, -5.653800010681152, -5.914999961853027, -3.262500047683716, -6.307499885559082, -6.71750020980835, -4.490499973297119, -5.629799842834473, -4.91349983215332, -4.549799919128418, -3.953200101852417, -4.031199932098389, -6.5, -4.910999774932861, -5.9745001792907715, -4.764699935913086, -4.64709997177124, -5.83459997177124, -3.797100067138672, -5.023499965667725, -3.8605000972747803, -5.047299861907959, -4.829500198364258, -4.856500148773193, -3.6707000732421875, -4.004499912261963, -4.790999889373779, -4.873300075531006, -4.829699993133545, -4.194499969482422, -4.925300121307373, -5.293799877166748, -4.843200206756592, -4.854100227355957, -5.154900074005127, -5.109399795532227, -7.352399826049805, -7.056700229644775, -7.27209997177124, -7.387199878692627, -7.5177001953125, -7.10099983215332, -7.527100086212158, -7.599400043487549, -7.481900215148926, -5.991199970245361, -4.937099933624268, -7.718400001525879, -7.35129976272583, -7.725599765777588, -7.907199859619141, -7.8755998611450195, -7.413300037384033, -7.917900085449219, -8.053899765014648, -7.855800151824951, -8.081399917602539, -7.618500232696533, -8.09570026397705, -7.959499835968018, -8.254899978637695, -8.25529956817627, -8.186200141906738, -8.226799964904785, -7.42080020904541, -8.258199691772461, -4.549600124359131, -5.749300003051758, -7.587299823760986, -7.504799842834473, -7.43310022354126, -6.306300163269043, -6.625899791717529, -4.515500068664551, -7.127900123596191, -7.243299961090088, -6.531700134277344, -5.871600151062012, -5.795400142669678, -4.789599895477295, -5.356200218200684, -6.738699913024902, -6.306099891662598, -6.446599960327148, -5.93179988861084, -6.319399833679199, -6.228300094604492, -6.200699806213379, -4.9664998054504395, -4.000400066375732, -2.976099967956543, -4.643499851226807, -6.071800231933594, -3.7934000492095947, -5.020699977874756, -5.794899940490723, -5.23390007019043, -5.585299968719482, -4.651400089263916, -6.338799953460693, -5.076300144195557, -4.326200008392334, -5.804999828338623, -5.930500030517578, -5.604700088500977, -5.191999912261963, -4.161799907684326, -4.837299823760986, -4.625500202178955, -4.499599933624268, -5.408899784088135, -5.638800144195557, -5.155700206756592, -5.065800189971924, -5.109399795532227, -5.491199970245361, -5.3414998054504395, -5.097300052642822, -5.234099864959717, -5.535999774932861, -5.4953999519348145, -5.522500038146973, -4.949100017547607, -4.905900001525879, -6.484899997711182, -6.098199844360352, -6.5278000831604, -7.1082000732421875, -7.26609992980957, -5.082499980926514, -7.696499824523926, -7.645199775695801, -7.853499889373779, -7.863900184631348, -7.839200019836426, -4.755099773406982, -7.548299789428711, -7.884399890899658, -7.727099895477295, -7.872799873352051, -4.6066999435424805, -7.9730000495910645, -7.945300102233887, -7.767899990081787, -8.082599639892578, -7.306300163269043, -8.142999649047852, -8.143400192260742, -7.946300029754639, -8.086099624633789, -7.0746002197265625, -7.7916998863220215, -5.13640022277832, -7.602799892425537, -5.236700057983398, -7.572999954223633, -5.4303998947143555, -5.864699840545654, -4.339099884033203, -6.97760009765625, -7.173299789428711, -5.3196001052856445, -4.6458001136779785, -5.1468000411987305, -3.291800022125244, -6.879700183868408, -6.73799991607666, -6.9039998054504395, -5.502099990844727, -5.488399982452393, -2.849100112915039, -5.843599796295166, -3.562700033187866, -5.295400142669678, -6.2204999923706055, -5.1596999168396, -6.064499855041504, -4.349699974060059, -6.191999912261963, -5.577099800109863, -4.582200050354004, -4.7108001708984375, -5.071000099182129, -3.3671998977661133, -5.315999984741211, -4.814000129699707, -4.791900157928467, -4.043700218200684, -4.911799907684326, -4.825799942016602, -4.883500099182129, -5.0177001953125, -5.135799884796143, -5.184299945831299, -5.212500095367432, -6.752399921417236, -4.622200012207031, -7.595699787139893, -7.742800235748291, -7.790500164031982, -7.440700054168701, -6.977499961853027, -7.748300075531006, -7.886499881744385, -7.70389986038208, -6.519800186157227, -7.892600059509277, -6.09630012512207, -4.991199970245361, -5.909200191497803, -7.815999984741211, -6.729599952697754, -6.388299942016602, -7.2154998779296875, -7.851099967956543, -7.289400100708008, -6.234300136566162, -8.128000259399414, -7.094399929046631, -8.11870002746582, -6.089700222015381, -8.142399787902832, -6.333799839019775, -7.781199932098389, -8.31719970703125, -7.467800140380859, -3.063199996948242, -6.019700050354004, -4.711400032043457, -5.376999855041504, -5.405799865722656, -6.243899822235107, -5.459199905395508, -5.9832000732421875, -7.041800022125244, -4.829800128936768, -6.131899833679199, -6.433199882507324, -6.879799842834473, -4.6732001304626465, -6.5055999755859375, -5.875999927520752, -5.064000129699707, -4.2017998695373535, -5.0991997718811035, -5.6265997886657715, -4.685200214385986, -3.929800033569336, -4.619999885559082, -4.122799873352051, -5.34660005569458, -3.1731998920440674, -4.749100208282471, -5.541600227355957, -3.9405999183654785, -4.882699966430664, -4.560800075531006, -3.716399908065796, -4.459199905395508, -4.8059000968933105, -5.530700206756592, -4.90310001373291, -4.754199981689453, -5.408899784088135, -5.280900001525879, -4.9558000564575195, -5.295300006866455, -5.134399890899658, -5.250999927520752, -5.219799995422363, -5.287300109863281, -2.9354000091552734, -5.363500118255615, -7.065000057220459, -7.520199775695801, -6.077000141143799, -7.72130012512207, -7.855000019073486, -5.628200054168701, -7.916500091552734, -5.607800006866455, -7.383699893951416, -8.14229965209961, -5.406700134277344, -7.893400192260742, -8.322199821472168, -5.534299850463867, -6.488999843597412, -8.343500137329102, -6.494500160217285, -5.454100131988525, -8.511699676513672, -8.511899948120117, -8.51669979095459, -8.338800430297852, -4.774700164794922, -8.40779972076416, -8.085800170898438, -4.729499816894531, -8.504599571228027, -8.603300094604492, -3.9951999187469482, -5.1539998054504395, -5.584799766540527, -7.100399971008301, -6.902100086212158, -7.144599914550781, -3.968899965286255, -5.002399921417236, -4.013500213623047, -3.859100103378296, -6.4928998947143555, -3.25, -4.6656999588012695, -3.5206000804901123, -5.629000186920166, -5.28380012512207, -5.0518999099731445, -5.820400238037109, -5.738399982452393, -3.1977999210357666, -5.743899822235107, -3.382999897003174, -5.250500202178955, -3.3282999992370605, -4.357399940490723, -4.353600025177002, -3.7704999446868896, -5.100900173187256, -3.4358999729156494, -4.422100067138672, -3.8571999073028564, -4.824999809265137, -4.97629976272583, -4.689000129699707, -5.224599838256836, -5.297800064086914]}, \"token.table\": {\"Topic\": [1, 2, 3, 4, 5, 2, 2, 5, 1, 2, 4, 1, 2, 3, 4, 2, 3, 4, 5, 2, 3, 4, 3, 1, 2, 3, 4, 2, 3, 4, 5, 3, 5, 1, 2, 3, 5, 1, 2, 3, 4, 5, 1, 2, 3, 4, 5, 3, 4, 5, 1, 2, 3, 4, 5, 2, 3, 5, 1, 1, 2, 3, 4, 5, 1, 1, 2, 3, 4, 5, 2, 3, 1, 2, 3, 4, 5, 4, 1, 2, 3, 4, 5, 1, 2, 3, 4, 5, 1, 2, 3, 4, 5, 1, 2, 3, 4, 5, 1, 2, 4, 5, 1, 2, 3, 4, 5, 4, 1, 2, 3, 1, 2, 3, 4, 5, 1, 2, 3, 4, 5, 1, 2, 3, 4, 5, 1, 2, 4, 5, 1, 2, 2, 2, 1, 2, 4, 5, 1, 2, 3, 1, 2, 3, 4, 5, 2, 1, 4, 1, 2, 3, 4, 5, 3, 5, 5, 1, 2, 3, 4, 5, 1, 2, 3, 4, 5, 1, 2, 3, 4, 5, 1, 2, 3, 4, 5, 1, 2, 3, 4, 5, 1, 2, 3, 4, 5, 1, 2, 3, 4, 5, 1, 2, 1, 2, 3, 4, 5, 2, 5, 1, 2, 3, 4, 1, 1, 1, 2, 3, 4, 5, 3, 1, 2, 3, 4, 5, 1, 2, 3, 4, 5, 1, 2, 3, 4, 5, 2, 3, 4, 2, 4, 1, 2, 2, 1, 1, 2, 3, 4, 5, 1, 4, 1, 2, 3, 4, 5, 1, 2, 3, 4, 5, 1, 2, 4, 3, 1, 2, 3, 4, 5, 1, 2, 3, 4, 5, 1, 2, 3, 4, 5, 1, 2, 3, 1, 2, 4, 1, 2, 3, 4, 5, 1, 2, 4, 5, 3, 4, 1, 2, 3, 4, 5, 4, 1, 2, 3, 4, 3, 2, 5, 2, 4, 1, 2, 3, 4, 5, 1, 2, 3, 4, 5, 1, 2, 3, 4, 5, 2, 3, 5, 5, 1, 2, 3, 4, 5, 1, 2, 3, 1, 2, 3, 4, 5, 2, 4, 4, 1, 2, 3, 5, 1, 2, 3, 4, 5, 1, 2, 3, 4, 5, 1, 2, 3, 5, 1, 2, 3, 4, 5, 3, 5, 1, 4, 1, 2, 3, 4, 5, 1, 2, 3, 4, 5, 1, 2, 3, 4, 5, 2, 3, 4, 5, 5, 2, 5, 1, 5, 1, 2, 3, 4, 5, 1, 2, 3, 4, 5, 1, 2, 3, 4, 5, 1, 2, 5, 1, 2, 3, 4, 5, 1, 2, 3, 4, 5, 1, 2, 5, 1, 2, 3, 4, 5, 4, 3, 3, 1, 2, 4, 5, 1, 2, 3, 4, 5, 4, 1, 2, 3, 4, 5, 3, 2, 3, 4, 2, 3, 4, 2, 1, 1, 2, 3, 4, 5, 1, 2, 3, 4, 5, 1, 2, 3, 4, 5, 1, 2, 3, 4, 5, 5, 1, 2, 3, 4, 3, 1, 2, 3, 4, 5, 2, 5, 2, 1, 2, 3, 4, 5, 1, 2, 3, 4, 5, 1, 2, 3, 4, 5, 3, 5, 1, 2, 3, 4, 5, 2, 1, 2, 3, 5, 1, 2, 3, 4, 5, 1, 1, 5, 1, 2, 3, 4, 5, 1, 2, 4, 5, 2, 4, 5, 2, 4, 1, 1, 2, 3, 4, 5, 1, 2, 3, 4, 5, 1, 2, 3, 4, 5, 1, 2, 3, 4, 5, 1, 2, 3, 4, 5, 1, 2, 3, 4, 5, 1, 2, 3, 4, 5, 1, 2, 3, 1, 2, 3, 4, 5, 1, 2, 3, 3, 2, 3, 1, 2, 3, 4, 5, 1, 2, 3, 4, 5, 1, 2, 3, 4, 5, 1, 2, 3, 4, 5, 1, 2, 3, 4, 5, 1, 2, 3, 4, 5, 1, 2, 3, 5, 1, 2, 3, 4, 5, 1, 2, 3, 4, 5, 1, 2, 3, 4, 5, 5, 1, 2, 1, 2, 3, 4, 5, 1, 2, 4, 1, 3, 1, 2, 3, 1, 2, 1, 2, 3, 2, 3, 4, 5, 1, 2, 3, 4, 5, 1, 2, 3, 4, 5, 1, 3, 3, 1, 2, 3, 4, 5, 1, 2, 3, 5, 1, 1, 2, 3, 4, 5, 1, 2, 3, 4, 5, 1, 2, 3, 4, 5, 2, 2, 2, 5, 1, 3, 5, 1, 2, 3, 5, 1, 2, 4, 1, 2, 3, 5, 1, 2, 3, 4, 5, 1, 2, 3, 4, 5, 1, 2, 3, 4, 5, 1, 2, 3, 4, 5, 2, 4, 1, 4, 4, 4, 1, 2, 3, 4, 1, 4, 5, 1, 2, 3, 4, 5, 1, 2, 3, 4, 5, 1, 4, 5, 1, 2, 3, 4, 5, 1, 3, 2, 1, 2, 3, 4, 5, 1, 1, 2, 3, 5, 1, 2, 5, 1, 2, 3, 4, 5, 4, 3, 5, 1, 2, 3, 4, 5, 4, 2, 2, 2, 1, 2, 3, 4, 2, 2, 2, 4, 5, 1, 3, 4, 5, 1, 2, 3, 4, 5, 1, 1, 2, 3, 4, 5, 1, 5, 2, 3, 5, 1, 2, 3, 4, 5, 1, 2, 3, 4, 5, 1, 2, 3, 4, 5, 1, 2, 3, 3, 1, 2, 3, 4, 5, 1, 3, 1, 1, 2, 3, 4, 5, 1, 2, 3, 4, 5, 2, 3, 4, 2, 3, 5, 1, 2, 3, 1, 5, 5, 1, 2, 3, 4, 5, 1, 2, 3, 4, 5, 3, 1, 2, 2, 1, 2, 3, 4, 5, 3, 4, 1, 2, 3, 4, 1, 3, 4, 4, 1, 2, 3, 5, 1, 2, 3, 4, 5, 1, 2, 3, 4, 5, 1, 2, 3, 4, 5, 3, 1, 2, 3, 4, 5, 1, 2, 3, 4, 5, 2, 3, 3, 1, 1, 2, 1, 2, 3, 1, 2, 3, 5, 1, 2, 3, 1, 2, 3, 4, 5, 1, 2, 3, 4, 5, 1, 2, 3, 4, 5, 1, 2, 3, 4, 5, 3, 1, 2, 3, 4, 5, 1, 2, 3, 4, 5, 1, 2, 3, 4, 5, 3, 5, 1, 2, 3, 4, 5], \"Freq\": [0.1601526141166687, 0.02911865897476673, 0.019412439316511154, 0.019412439316511154, 0.7716444134712219, 0.9355722665786743, 0.9196124076843262, 0.04180056229233742, 0.08942550420761108, 0.8644465208053589, 0.02980850078165531, 0.03805378079414368, 0.7839078903198242, 0.01522151194512844, 0.1598258763551712, 0.013677863404154778, 0.05471145361661911, 0.8343496918678284, 0.09574504941701889, 0.12714503705501556, 0.08091048151254654, 0.7859875559806824, 0.9139655232429504, 0.21917475759983063, 0.0684921145439148, 0.6506750583648682, 0.05479368939995766, 0.005822737701237202, 0.029113687574863434, 0.6579693555831909, 0.3027823567390442, 0.9528225660324097, 0.06805875152349472, 0.03324805945158005, 0.02659844607114792, 0.9375952482223511, 0.8384626507759094, 0.0036139902658760548, 0.9504794478416443, 0.014455961063504219, 0.028911922127008438, 0.0072279805317521095, 0.008893316611647606, 0.6781153678894043, 0.07781651616096497, 0.22677956521511078, 0.006669987458735704, 0.011125637218356133, 0.8455484509468079, 0.1335076540708542, 0.07656923681497574, 0.43605533242225647, 0.036986835300922394, 0.40101516246795654, 0.04931578040122986, 0.12685175240039825, 0.8372215628623962, 0.892997682094574, 0.9795117974281311, 0.12832382321357727, 0.5366268754005432, 0.031108804047107697, 0.24887043237686157, 0.05055180564522743, 0.9653071165084839, 0.028359197080135345, 0.028359197080135345, 0.8791351318359375, 0.028359197080135345, 0.05671839416027069, 0.9851372838020325, 0.9621350765228271, 0.6670604348182678, 0.22040727734565735, 0.07882114499807358, 0.005838603246957064, 0.02919301763176918, 0.9459871053695679, 0.009278194978833199, 0.20412027835845947, 0.7422555685043335, 0.018556389957666397, 0.027834584936499596, 0.39321985840797424, 0.19277632236480713, 0.08872091770172119, 0.2552095651626587, 0.07010047882795334, 0.4405655860900879, 0.092951700091362, 0.23428921401500702, 0.17826353013515472, 0.054752372205257416, 0.7396674156188965, 0.08069099485874176, 0.08069099485874176, 0.08069099485874176, 0.026896998286247253, 0.03250410407781601, 0.006500821094959974, 0.006500821094959974, 0.9556207060813904, 0.11761188507080078, 0.1289936900138855, 0.724640965461731, 0.0037939317990094423, 0.026557523757219315, 0.9637128710746765, 0.10553693771362305, 0.07035795599222183, 0.8179112672805786, 0.9213142395019531, 0.026871666312217712, 0.03838809207081795, 0.007677618879824877, 0.0038388094399124384, 0.6104210615158081, 0.06438034772872925, 0.045304689556360245, 0.0802767276763916, 0.19949959218502045, 0.14904670417308807, 0.15735135972499847, 0.10839760303497314, 0.027099400758743286, 0.5585973262786865, 0.017728136852383614, 0.12409695237874985, 0.017728136852383614, 0.8332223892211914, 0.9501301050186157, 0.025679191574454308, 0.9426120519638062, 0.9182518124580383, 0.12180660665035248, 0.017400944605469704, 0.8178443312644958, 0.03480188921093941, 0.8396494388580322, 0.1033414676785469, 0.05167073383927345, 0.35206082463264465, 0.11061729490756989, 0.16592594981193542, 0.27335235476493835, 0.09785376489162445, 0.9359850287437439, 0.05073286592960358, 0.9131916165351868, 0.15511591732501984, 0.08736414462327957, 0.032092951238155365, 0.5170530676841736, 0.2068212330341339, 0.8969406485557556, 0.056058790534734726, 0.843420684337616, 0.20095694065093994, 0.4375675320625305, 0.0486186146736145, 0.19123321771621704, 0.11992591619491577, 0.0076340725645422935, 0.8931864500045776, 0.015268145129084587, 0.04580443352460861, 0.030536290258169174, 0.09731411188840866, 0.6055100560188293, 0.08109509199857712, 0.04325071722269058, 0.17300286889076233, 0.051504816859960556, 0.5608302354812622, 0.2975834012031555, 0.03433654457330704, 0.05722757428884506, 0.005467107053846121, 0.013667767867445946, 0.03826975077390671, 0.7735956311225891, 0.1722138673067093, 0.0030777021311223507, 0.16004051268100739, 0.0769425556063652, 0.5909188389778137, 0.16927361488342285, 0.02700403705239296, 0.007501121144741774, 0.0765114352107048, 0.025503812357783318, 0.8641291856765747, 0.9549938440322876, 0.9775238633155823, 0.07698456197977066, 0.8275840282440186, 0.057738419622182846, 0.019246140494942665, 0.03849228098988533, 0.9031962752342224, 0.843459963798523, 0.03323971852660179, 0.03323971852660179, 0.9307121634483337, 0.933973491191864, 0.9380924105644226, 0.8904379606246948, 0.005653616972267628, 0.17526212334632874, 0.016960851848125458, 0.7971600294113159, 0.005653616972267628, 0.9617785215377808, 0.08179883658885956, 0.017528321593999863, 0.09932715445756912, 0.7829316854476929, 0.017528321593999863, 0.0043334090150892735, 0.0043334090150892735, 0.008666818030178547, 0.9273495674133301, 0.0606677271425724, 0.18363462388515472, 0.7021324038505554, 0.02160407416522503, 0.010802037082612514, 0.08641629666090012, 0.04269609600305557, 0.04269609600305557, 0.8966180086135864, 0.0701020136475563, 0.9113262295722961, 0.9787024855613708, 0.9120203256607056, 0.9707159399986267, 0.9716074466705322, 0.021646548062562943, 0.09335073828697205, 0.005411637015640736, 0.0798216462135315, 0.7995693683624268, 0.06850433349609375, 0.8905563354492188, 0.10693193227052689, 0.16253654658794403, 0.5303823947906494, 0.149704709649086, 0.05132732912898064, 0.1916070282459259, 0.46011754870414734, 0.17075183987617493, 0.12122076749801636, 0.05604831501841545, 0.12514138221740723, 0.8290616869926453, 0.03128534555435181, 0.9831374883651733, 0.21497610211372375, 0.4788103997707367, 0.019543280825018883, 0.24184811115264893, 0.0464152917265892, 0.05939586088061333, 0.05939586088061333, 0.04751668870449066, 0.18610703945159912, 0.6493947505950928, 0.38923656940460205, 0.08374354243278503, 0.06537123024463654, 0.008117996156215668, 0.453753262758255, 0.0042755622416734695, 0.0042755622416734695, 0.9919304251670837, 0.06737948209047318, 0.8759332895278931, 0.03368974104523659, 0.030166173353791237, 0.14077547192573547, 0.010055391117930412, 0.7943758964538574, 0.020110782235860825, 0.0054973759688436985, 0.06047113612294197, 0.7971194982528687, 0.13193702697753906, 0.944841206073761, 0.8985379338264465, 0.008006355725228786, 0.016012711450457573, 0.008006355725228786, 0.04803813248872757, 0.9207308888435364, 0.8863865733146667, 0.011610071174800396, 0.7662646770477295, 0.10449063777923584, 0.11610070616006851, 0.8960472941398621, 0.9245114326477051, 0.048658497631549835, 0.04971963167190552, 0.8949533700942993, 0.1451113373041153, 0.04003071412444115, 0.6705144643783569, 0.025019196793437004, 0.12509597837924957, 0.4340529441833496, 0.3280400335788727, 0.1360165923833847, 0.07400903105735779, 0.02800341695547104, 0.7999409437179565, 0.03096545673906803, 0.1290227323770523, 0.02580454759299755, 0.010321819223463535, 0.07501160353422165, 0.018752900883555412, 0.9001392722129822, 0.899354100227356, 0.36406004428863525, 0.09303756803274155, 0.4166465103626251, 0.03236089274287224, 0.09506012499332428, 0.9166647791862488, 0.9338170886039734, 0.042446233332157135, 0.01117771491408348, 0.19002114236354828, 0.10507051646709442, 0.6572496294975281, 0.038004230707883835, 0.9491121768951416, 0.03163707256317139, 0.9481688737869263, 0.004568606149405241, 0.08680351823568344, 0.8817410469055176, 0.02741163782775402, 0.00966573879122734, 0.006443825550377369, 0.016109563410282135, 0.6411606669425964, 0.3286350965499878, 0.18293873965740204, 0.1556030660867691, 0.041353967040777206, 0.3567655682563782, 0.2635439336299896, 0.8555195927619934, 0.010829362086951733, 0.03248808532953262, 0.09746425598859787, 0.0057777343317866325, 0.002311093732714653, 0.2230205535888672, 0.006933281198143959, 0.7626609206199646, 0.07709304988384247, 0.9251166582107544, 0.969797670841217, 0.9389545321464539, 0.13937446475028992, 0.3420257568359375, 0.3842103183269501, 0.09139987081289291, 0.043011702597141266, 0.015772046521306038, 0.8742219805717468, 0.03830353915691376, 0.0675944834947586, 0.002253149403259158, 0.13565948605537415, 0.09623707085847855, 0.1820387989282608, 0.12058620899915695, 0.46495261788368225, 0.008461914025247097, 0.008461914025247097, 0.19462402164936066, 0.7869579792022705, 0.9496216177940369, 0.10101815313100815, 0.875490665435791, 0.09423788636922836, 0.885836124420166, 0.03803597763180733, 0.012678658589720726, 0.009508994407951832, 0.06973262131214142, 0.8748274445533752, 0.07047969847917557, 0.014095939695835114, 0.0493357889354229, 0.07752767205238342, 0.7893726229667664, 0.007796899881213903, 0.11435452848672867, 0.010395866818726063, 0.10135969519615173, 0.764096200466156, 0.034951046109199524, 0.10485313087701797, 0.8737761378288269, 0.22041645646095276, 0.11451245844364166, 0.37977296113967896, 0.15315039455890656, 0.13232995569705963, 0.6162669658660889, 0.05216052755713463, 0.027046198025345802, 0.09272982180118561, 0.21443772315979004, 0.027356769889593124, 0.08207030594348907, 0.8480598330497742, 0.7402337193489075, 0.09462781250476837, 0.03663012012839317, 0.08089151978492737, 0.047313906252384186, 0.8882201910018921, 0.9082614779472351, 0.972993791103363, 0.03155532106757164, 0.06311064213514328, 0.8835489153862, 0.03155532106757164, 0.17696480453014374, 0.030776487663388252, 0.007694121915847063, 0.015388243831694126, 0.7771063446998596, 0.9604218602180481, 0.8412712216377258, 0.09347458183765411, 0.01438070461153984, 0.03595176339149475, 0.02157105691730976, 0.9703882336616516, 0.9547041058540344, 0.020754436030983925, 0.020754436030983925, 0.7885467410087585, 0.05884677171707153, 0.153001606464386, 0.9599116444587708, 0.8942745923995972, 0.34250617027282715, 0.32248958945274353, 0.22685474157333374, 0.0956348404288292, 0.013344396837055683, 0.12720851600170135, 0.3089349865913391, 0.11660780757665634, 0.41191330552101135, 0.03634529188275337, 0.20382118225097656, 0.6663385033607483, 0.06271421164274216, 0.03135710582137108, 0.04703565686941147, 0.07418753951787949, 0.5146760940551758, 0.14373835921287537, 0.0880977064371109, 0.1808321326971054, 0.9424992203712463, 0.14003188908100128, 0.05001138895750046, 0.6701526045799255, 0.14003188908100128, 0.9697569608688354, 0.0027281881775707006, 0.027281880378723145, 0.005456376355141401, 0.6847752332687378, 0.27827519178390503, 0.0909714475274086, 0.9097144603729248, 0.9082244634628296, 0.005730015691369772, 0.03094208426773548, 0.032088086009025574, 0.8423122763633728, 0.08938824385404587, 0.7167031168937683, 0.09694535285234451, 0.008655834943056107, 0.05280059203505516, 0.12464402616024017, 0.0385928638279438, 0.0771857276558876, 0.8393948078155518, 0.004824107978492975, 0.0385928638279438, 0.05263584852218628, 0.947445273399353, 0.09126481413841248, 0.03650592640042305, 0.009126481600105762, 0.4289446473121643, 0.43198680877685547, 0.9655709862709045, 0.7368477582931519, 0.21317608654499054, 0.046342626214027405, 0.0023171312641352415, 0.8318532109260559, 0.030039144679903984, 0.07625321298837662, 0.002310703508555889, 0.06007828935980797, 0.9367074966430664, 0.9669795632362366, 0.029753217473626137, 0.2498931884765625, 0.21017028391361237, 0.189947709441185, 0.262893408536911, 0.08739039301872253, 0.046474579721689224, 0.03983535245060921, 0.02655690163373947, 0.8896561861038208, 0.025523317977786064, 0.9060778021812439, 0.05104663595557213, 0.06552667170763016, 0.9304786920547485, 0.9235590100288391, 0.17595340311527252, 0.2268872857093811, 0.05556423217058182, 0.4784697890281677, 0.06482493877410889, 0.2192731648683548, 0.7334309220314026, 0.007561143487691879, 0.037805717438459396, 0.9512664079666138, 0.10739248991012573, 0.3243253231048584, 0.10309679061174393, 0.21263712644577026, 0.2512984275817871, 0.021070843562483788, 0.3750610053539276, 0.07585503906011581, 0.526771068572998, 0.004214168526232243, 0.3920678496360779, 0.007679679896682501, 0.061841629445552826, 0.24696232378482819, 0.29142364859580994, 0.013273569755256176, 0.019910354167222977, 0.05973106250166893, 0.029865531250834465, 0.8760555982589722, 0.008063925430178642, 0.025343766435980797, 0.004031962715089321, 0.0057599470019340515, 0.9567272067070007, 0.9178481698036194, 0.9737427830696106, 0.03042946197092533, 0.03163828328251839, 0.18982970714569092, 0.6854961514472961, 0.09491485357284546, 0.8434826135635376, 0.04136088863015175, 0.9099395275115967, 0.04136088863015175, 0.9702751636505127, 0.04203648120164871, 0.9248026013374329, 0.024013545364141464, 0.03842167183756828, 0.06723792850971222, 0.004802708979696035, 0.8692903518676758, 0.11313093453645706, 0.11313093453645706, 0.4553520381450653, 0.2602011561393738, 0.05656546726822853, 0.019260553643107414, 0.00642018485814333, 0.044941291213035583, 0.032100923359394073, 0.8988258838653564, 0.48630982637405396, 0.0472315289080143, 0.14344389736652374, 0.2798905372619629, 0.0437328964471817, 0.18745218217372894, 0.10806067287921906, 0.6946757435798645, 0.004410639405250549, 0.008821278810501099, 0.17307397723197937, 0.4814241826534271, 0.1989356130361557, 0.12930814921855927, 0.01790420524775982, 0.016498401761054993, 0.04949520528316498, 0.008249200880527496, 0.9239104986190796, 0.5520996451377869, 0.16159014403820038, 0.058351997286081314, 0.04189373925328255, 0.185529425740242, 0.4159643352031708, 0.1337028294801712, 0.32930511236190796, 0.10151510685682297, 0.019807826727628708, 0.007239062339067459, 0.021717187017202377, 0.036195311695337296, 0.050673436373472214, 0.8976437449455261, 0.9236264228820801, 0.9597947001457214, 0.02525775507092476, 0.07285104691982269, 0.05779917538166046, 0.028297513723373413, 0.1113838255405426, 0.7303166389465332, 0.05276697501540184, 0.8618606328964233, 0.08794496208429337, 0.9774594306945801, 0.9696391224861145, 0.8865303993225098, 0.10638364404439926, 0.9655701518058777, 0.9786165952682495, 0.020821629092097282, 0.9785577654838562, 0.008815835230052471, 0.008815835230052471, 0.016105515882372856, 0.016105515882372856, 0.8213812708854675, 0.16105514764785767, 0.003106901654973626, 0.006213803309947252, 0.003106901654973626, 0.96003258228302, 0.02796211466193199, 0.006847503129392862, 0.7669203281402588, 0.006847503129392862, 0.21227259933948517, 0.006847503129392862, 0.05384761840105057, 0.9154095649719238, 0.9559399485588074, 0.2060176283121109, 0.02841622568666935, 0.322050541639328, 0.18825750052928925, 0.2557460367679596, 0.19669747352600098, 0.7453798651695251, 0.05176249146461487, 0.010352498851716518, 0.9461206793785095, 0.30919453501701355, 0.03747812286019325, 0.632443368434906, 0.009369530715048313, 0.009369530715048313, 0.13525895774364471, 0.3559446334838867, 0.06610400229692459, 0.334587961435318, 0.10780037194490433, 0.09039181470870972, 0.12805506587028503, 0.02259795367717743, 0.007532651070505381, 0.7532650828361511, 0.9680128693580627, 0.9653924107551575, 0.8443865180015564, 0.13863061368465424, 0.02023209258913994, 0.971140444278717, 0.02023209258913994, 0.15012794733047485, 0.011548303999006748, 0.8314778804779053, 0.005774151999503374, 0.031913187354803085, 0.031913187354803085, 0.925482451915741, 0.07347533106803894, 0.029390133917331696, 0.029390133917331696, 0.8596614003181458, 0.8495151996612549, 0.025939395651221275, 0.025939395651221275, 0.07133334130048752, 0.025939395651221275, 0.1019960343837738, 0.23782728612422943, 0.5972652435302734, 0.04658472537994385, 0.01618206314742565, 0.10183829069137573, 0.20106534659862518, 0.4909127950668335, 0.20367658138275146, 0.005222476553171873, 0.26805344223976135, 0.0964650884270668, 0.3611038327217102, 0.14085610210895538, 0.13317304849624634, 0.07428020983934402, 0.9210745692253113, 0.13196122646331787, 0.8445518016815186, 0.9644824266433716, 0.9742090702056885, 0.024522727355360985, 0.024522727355360985, 0.024522727355360985, 0.9318636059761047, 0.04835594445466995, 0.9026443362236023, 0.04835594445466995, 0.5530222654342651, 0.11254487931728363, 0.056272439658641815, 0.15329387784004211, 0.12612788379192352, 0.12985293567180634, 0.13411040604114532, 0.18945755064487457, 0.11814487725496292, 0.4278760552406311, 0.040074050426483154, 0.9217031598091125, 0.020037025213241577, 0.10961052775382996, 0.15008211135864258, 0.7200568318367004, 0.016863157972693443, 0.0016863158671185374, 0.9489125609397888, 0.9145692586898804, 0.9443386793136597, 0.7688498497009277, 0.05358981713652611, 0.03718477115035057, 0.018592385575175285, 0.120303675532341, 0.8945589065551758, 0.8616160750389099, 0.06304507702589035, 0.015761269256472588, 0.06041819974780083, 0.9495071172714233, 0.01899014227092266, 0.01899014227092266, 0.7755871415138245, 0.06870973110198975, 0.06350445002317429, 0.03956015035510063, 0.05309388414025307, 0.8749434947967529, 0.04724401980638504, 0.897636353969574, 0.21199731528759003, 0.09984389692544937, 0.3296216130256653, 0.12719838321208954, 0.2297777235507965, 0.9482904076576233, 0.9596291184425354, 0.9655253887176514, 0.8989799618721008, 0.6956848502159119, 0.07177700847387314, 0.22637365758419037, 0.00552130863070488, 0.9334402680397034, 0.9333131909370422, 0.7944406867027283, 0.16436703503131866, 0.027394505217671394, 0.02121381089091301, 0.8273386359214783, 0.06364142894744873, 0.08485524356365204, 0.6062346696853638, 0.16945354640483856, 0.15849749743938446, 0.05624104663729668, 0.009495241567492485, 0.9532136917114258, 0.18250633776187897, 0.1188012957572937, 0.06714855879545212, 0.4097783863544464, 0.22038501501083374, 0.917100191116333, 0.8229331374168396, 0.9267440438270569, 0.051485780626535416, 0.8787554502487183, 0.5211653113365173, 0.04772116243839264, 0.3704669177532196, 0.02260476164519787, 0.03893042355775833, 0.012349847704172134, 0.04116616025567055, 0.015094258822500706, 0.15505920350551605, 0.7752960324287415, 0.008546938188374043, 0.05697958543896675, 0.9316162467002869, 0.0028489793185144663, 0.0028489793185144663, 0.009428112767636776, 0.028284339234232903, 0.9569534659385681, 0.938417911529541, 0.08706779778003693, 0.7428550720214844, 0.025935089215636253, 0.1370854675769806, 0.005557519383728504, 0.9448233842849731, 0.055577848106622696, 0.9672114849090576, 0.10907863080501556, 0.3131828308105469, 0.18904732167720795, 0.22033214569091797, 0.1684696078300476, 0.08607850968837738, 0.36503663659095764, 0.08448446542024612, 0.2518593370914459, 0.2136022299528122, 0.06985596567392349, 0.8731995224952698, 0.034927982836961746, 0.8923853039741516, 0.04461926594376564, 0.8287888169288635, 0.004082007799297571, 0.004082007799297571, 0.9919279217720032, 0.864601731300354, 0.11638869345188141, 0.9129278063774109, 0.14827260375022888, 0.14305174350738525, 0.0772688239812851, 0.4918056130409241, 0.1399192214012146, 0.08549296855926514, 0.21848203241825104, 0.09499219059944153, 0.584201991558075, 0.009499219246208668, 0.9076205492019653, 0.04034047573804855, 0.9681714773178101, 0.9678735136985779, 0.01965428702533245, 0.7272086143493652, 0.0786171481013298, 0.068790003657341, 0.1080985739827156, 0.03967011719942093, 0.912412703037262, 0.298397034406662, 0.025576889514923096, 0.6479478478431702, 0.025576889514923096, 0.017410151660442352, 0.05223045498132706, 0.9227380752563477, 0.9207723736763, 0.8350182175636292, 0.021974164992570877, 0.07690957188606262, 0.06592249125242233, 0.2576421797275543, 0.13322941958904266, 0.18743550777435303, 0.05551225692033768, 0.36605435609817505, 0.04783643037080765, 0.05887560918927193, 0.06623505800962448, 0.5519588589668274, 0.2796591520309448, 0.10762717574834824, 0.06309179216623306, 0.025978974997997284, 0.06309179216623306, 0.7422564029693604, 0.9546213150024414, 0.11449529230594635, 0.20541802048683167, 0.5522714257240295, 0.04041010141372681, 0.08418771624565125, 0.3352440297603607, 0.41825684905052185, 0.05108480527997017, 0.13729041814804077, 0.057470403611660004, 0.0542965866625309, 0.9230419397354126, 0.9877427816390991, 0.9894734621047974, 0.9282060861587524, 0.9333223700523376, 0.02491142228245735, 0.12455711513757706, 0.8469883799552917, 0.9345371127128601, 0.033860038965940475, 0.013544016517698765, 0.020316023379564285, 0.8981872200965881, 0.07044605165719986, 0.03522302582859993, 0.42749103903770447, 0.016337238252162933, 0.02722872979938984, 0.008168619126081467, 0.5200687050819397, 0.07915741950273514, 0.7207491397857666, 0.19164428114891052, 0.008332360535860062, 0.004166180267930031, 0.04844579100608826, 0.5637328624725342, 0.19598524272441864, 0.08588117361068726, 0.10790199041366577, 0.2647107243537903, 0.22447469830513, 0.3547123968601227, 0.07729553431272507, 0.07941322028636932, 0.9048783183097839, 0.021668819710612297, 0.010834409855306149, 0.03250322863459587, 0.9209248423576355, 0.021668819710612297, 0.002324275905266404, 0.04571075737476349, 0.025567034259438515, 0.20995958149433136, 0.7166517376899719, 0.008333769626915455, 0.07500392198562622, 0.0416688472032547, 0.7333717346191406, 0.14167408645153046, 0.03545517101883888, 0.9572895765304565, 0.007704131305217743, 0.03466859087347984, 0.03081652522087097, 0.11941403150558472, 0.8089337348937988], \"Term\": [\"absolutely\", \"absolutely\", \"absolutely\", \"absolutely\", \"absolutely\", \"abuse\", \"adapter\", \"adapter\", \"adds\", \"adds\", \"adds\", \"ads\", \"ads\", \"ads\", \"ads\", \"adult\", \"adult\", \"adult\", \"adult\", \"adults\", \"adults\", \"adults\", \"afford\", \"affordable\", \"affordable\", \"affordable\", \"affordable\", \"age\", \"age\", \"age\", \"age\", \"alarm\", \"alarm\", \"alexa\", \"alexa\", \"alexa\", \"alphabet\", \"android\", \"android\", \"android\", \"android\", \"android\", \"app\", \"app\", \"app\", \"app\", \"app\", \"appropriate\", \"appropriate\", \"appropriate\", \"apps\", \"apps\", \"apps\", \"apps\", \"apps\", \"audible\", \"audible\", \"autism\", \"auto\", \"available\", \"available\", \"available\", \"available\", \"available\", \"backlight\", \"backpack\", \"backpack\", \"backpack\", \"backpack\", \"backpack\", \"bang\", \"bass\", \"battery\", \"battery\", \"battery\", \"battery\", \"battery\", \"bc\", \"beat\", \"beat\", \"beat\", \"beat\", \"beat\", \"best\", \"best\", \"best\", \"best\", \"best\", \"better\", \"better\", \"better\", \"better\", \"better\", \"bigger\", \"bigger\", \"bigger\", \"bigger\", \"bigger\", \"birthday\", \"birthday\", \"birthday\", \"birthday\", \"black\", \"black\", \"black\", \"black\", \"black\", \"block\", \"bluetooth\", \"bluetooth\", \"bluetooth\", \"book\", \"book\", \"book\", \"book\", \"book\", \"books\", \"books\", \"books\", \"books\", \"books\", \"bought\", \"bought\", \"bought\", \"bought\", \"bought\", \"brought\", \"brought\", \"brought\", \"brought\", \"browse\", \"browse\", \"buck\", \"bugs\", \"bumper\", \"bumper\", \"bumper\", \"bumper\", \"buttons\", \"buttons\", \"buttons\", \"buy\", \"buy\", \"buy\", \"buy\", \"buy\", \"candy\", \"cartoons\", \"cartoons\", \"case\", \"case\", \"case\", \"case\", \"case\", \"certainly\", \"certainly\", \"characters\", \"charge\", \"charge\", \"charge\", \"charge\", \"charge\", \"charger\", \"charger\", \"charger\", \"charger\", \"charger\", \"charging\", \"charging\", \"charging\", \"charging\", \"charging\", \"cheap\", \"cheap\", \"cheap\", \"cheap\", \"cheap\", \"child\", \"child\", \"child\", \"child\", \"child\", \"children\", \"children\", \"children\", \"children\", \"children\", \"christmas\", \"christmas\", \"christmas\", \"christmas\", \"christmas\", \"clean\", \"clicking\", \"close\", \"close\", \"close\", \"close\", \"close\", \"closes\", \"clubhouse\", \"commands\", \"commands\", \"commands\", \"commercials\", \"concerned\", \"conditions\", \"content\", \"content\", \"content\", \"content\", \"content\", \"contents\", \"control\", \"control\", \"control\", \"control\", \"control\", \"controls\", \"controls\", \"controls\", \"controls\", \"controls\", \"couple\", \"couple\", \"couple\", \"couple\", \"couple\", \"create\", \"create\", \"create\", \"credit\", \"credit\", \"crisp\", \"crush\", \"damaged\", \"dark\", \"daughter\", \"daughter\", \"daughter\", \"daughter\", \"daughter\", \"dead\", \"dead\", \"deal\", \"deal\", \"deal\", \"deal\", \"deal\", \"device\", \"device\", \"device\", \"device\", \"device\", \"dollars\", \"dollars\", \"dollars\", \"dot\", \"download\", \"download\", \"download\", \"download\", \"download\", \"durable\", \"durable\", \"durable\", \"durable\", \"durable\", \"easy\", \"easy\", \"easy\", \"easy\", \"easy\", \"echo\", \"echo\", \"echo\", \"ecosystem\", \"ecosystem\", \"ecosystem\", \"edition\", \"edition\", \"edition\", \"edition\", \"edition\", \"educational\", \"educational\", \"educational\", \"educational\", \"enabled\", \"engaged\", \"enjoys\", \"enjoys\", \"enjoys\", \"enjoys\", \"enjoys\", \"entertain\", \"expect\", \"expect\", \"expect\", \"expect\", \"explored\", \"extended\", \"extended\", \"falls\", \"falls\", \"family\", \"family\", \"family\", \"family\", \"family\", \"far\", \"far\", \"far\", \"far\", \"far\", \"faster\", \"faster\", \"faster\", \"faster\", \"faster\", \"father\", \"father\", \"father\", \"fb\", \"features\", \"features\", \"features\", \"features\", \"features\", \"fianc\", \"fraction\", \"fraction\", \"free\", \"free\", \"free\", \"free\", \"free\", \"freezes\", \"freezes\", \"freezing\", \"friday\", \"friday\", \"friday\", \"friday\", \"friendly\", \"friendly\", \"friendly\", \"friendly\", \"friendly\", \"games\", \"games\", \"games\", \"games\", \"games\", \"generation\", \"generation\", \"generation\", \"generation\", \"gift\", \"gift\", \"gift\", \"gift\", \"gift\", \"girlfriend\", \"girlfriend\", \"glare\", \"glitch\", \"good\", \"good\", \"good\", \"good\", \"good\", \"google\", \"google\", \"google\", \"google\", \"google\", \"got\", \"got\", \"got\", \"got\", \"got\", \"grand\", \"grand\", \"grand\", \"grand\", \"grandaughter\", \"grandchild\", \"grandchild\", \"grandchildren\", \"grandchildren\", \"granddaughter\", \"granddaughter\", \"granddaughter\", \"granddaughter\", \"granddaughter\", \"grandkids\", \"grandkids\", \"grandkids\", \"grandkids\", \"grandkids\", \"grandson\", \"grandson\", \"grandson\", \"grandson\", \"grandson\", \"grandsons\", \"grandsons\", \"grandsons\", \"great\", \"great\", \"great\", \"great\", \"great\", \"happy\", \"happy\", \"happy\", \"happy\", \"happy\", \"hasn\", \"hasn\", \"hasn\", \"hd\", \"hd\", \"hd\", \"hd\", \"hd\", \"hes\", \"holiday\", \"holidays\", \"homework\", \"homework\", \"homework\", \"homework\", \"husband\", \"husband\", \"husband\", \"husband\", \"husband\", \"inappropriate\", \"inch\", \"inch\", \"inch\", \"inch\", \"inch\", \"inches\", \"install\", \"install\", \"install\", \"installed\", \"installed\", \"installed\", \"installing\", \"instantly\", \"internet\", \"internet\", \"internet\", \"internet\", \"internet\", \"ipad\", \"ipad\", \"ipad\", \"ipad\", \"ipad\", \"issue\", \"issue\", \"issue\", \"issue\", \"issue\", \"issues\", \"issues\", \"issues\", \"issues\", \"issues\", \"jealous\", \"job\", \"job\", \"job\", \"job\", \"junk\", \"kid\", \"kid\", \"kid\", \"kid\", \"kid\", \"kiddo\", \"kiddo\", \"kiddos\", \"kids\", \"kids\", \"kids\", \"kids\", \"kids\", \"kindle\", \"kindle\", \"kindle\", \"kindle\", \"kindle\", \"laptop\", \"laptop\", \"laptop\", \"laptop\", \"laptop\", \"law\", \"law\", \"learning\", \"learning\", \"learning\", \"learning\", \"learning\", \"lg\", \"life\", \"life\", \"life\", \"life\", \"light\", \"light\", \"light\", \"light\", \"light\", \"lighted\", \"lighter\", \"lighter\", \"like\", \"like\", \"like\", \"like\", \"like\", \"likes\", \"likes\", \"likes\", \"likes\", \"limit\", \"limit\", \"limit\", \"limits\", \"limits\", \"lit\", \"little\", \"little\", \"little\", \"little\", \"little\", \"load\", \"load\", \"load\", \"load\", \"logic\", \"lot\", \"lot\", \"lot\", \"lot\", \"lot\", \"lots\", \"lots\", \"lots\", \"lots\", \"lots\", \"love\", \"love\", \"love\", \"love\", \"love\", \"loved\", \"loved\", \"loved\", \"loved\", \"loved\", \"loves\", \"loves\", \"loves\", \"loves\", \"loves\", \"lunch\", \"magazine\", \"magazine\", \"media\", \"media\", \"media\", \"media\", \"mickey\", \"microsd\", \"microsd\", \"microsd\", \"mines\", \"mobile\", \"mobile\", \"mom\", \"mom\", \"mom\", \"mom\", \"mom\", \"money\", \"money\", \"money\", \"money\", \"money\", \"mother\", \"mother\", \"mother\", \"mother\", \"mother\", \"movies\", \"movies\", \"movies\", \"movies\", \"movies\", \"music\", \"music\", \"music\", \"music\", \"music\", \"need\", \"need\", \"need\", \"need\", \"need\", \"nephew\", \"nephew\", \"nephew\", \"nephew\", \"new\", \"new\", \"new\", \"new\", \"new\", \"nice\", \"nice\", \"nice\", \"nice\", \"nice\", \"niece\", \"niece\", \"niece\", \"niece\", \"niece\", \"numbers\", \"oasis\", \"oasis\", \"old\", \"old\", \"old\", \"old\", \"old\", \"operating\", \"operating\", \"operating\", \"operation\", \"packed\", \"page\", \"page\", \"pandora\", \"paper\", \"paper\", \"paperwhite\", \"paperwhite\", \"paperwhite\", \"parent\", \"parent\", \"parent\", \"parent\", \"parental\", \"parental\", \"parental\", \"parental\", \"parental\", \"pay\", \"pay\", \"pay\", \"pay\", \"pay\", \"paying\", \"paying\", \"pen\", \"perfect\", \"perfect\", \"perfect\", \"perfect\", \"perfect\", \"photos\", \"photos\", \"photos\", \"photos\", \"pics\", \"picture\", \"picture\", \"picture\", \"picture\", \"picture\", \"play\", \"play\", \"play\", \"play\", \"play\", \"plays\", \"plays\", \"plays\", \"plays\", \"plays\", \"playstore\", \"plugs\", \"port\", \"port\", \"portability\", \"portability\", \"portability\", \"portable\", \"portable\", \"portable\", \"portable\", \"preloaded\", \"preloaded\", \"preloaded\", \"present\", \"present\", \"present\", \"present\", \"previous\", \"previous\", \"previous\", \"previous\", \"previous\", \"price\", \"price\", \"price\", \"price\", \"price\", \"prime\", \"prime\", \"prime\", \"prime\", \"prime\", \"product\", \"product\", \"product\", \"product\", \"product\", \"profile\", \"profile\", \"profiles\", \"profiles\", \"programming\", \"proof\", \"protected\", \"protected\", \"protected\", \"protected\", \"protection\", \"protection\", \"protection\", \"purchase\", \"purchase\", \"purchase\", \"purchase\", \"purchase\", \"purchased\", \"purchased\", \"purchased\", \"purchased\", \"purchased\", \"purchases\", \"purchases\", \"purchases\", \"quality\", \"quality\", \"quality\", \"quality\", \"quality\", \"quicker\", \"quirks\", \"randomly\", \"read\", \"read\", \"read\", \"read\", \"read\", \"readable\", \"reader\", \"reader\", \"reader\", \"reader\", \"readers\", \"readers\", \"readers\", \"reading\", \"reading\", \"reading\", \"reading\", \"reading\", \"reboot\", \"recipient\", \"recipient\", \"recommend\", \"recommend\", \"recommend\", \"recommend\", \"recommend\", \"registered\", \"regularly\", \"reputable\", \"requirements\", \"resolution\", \"resolution\", \"resolution\", \"resolution\", \"rid\", \"rooting\", \"runs\", \"runs\", \"runs\", \"savvy\", \"savvy\", \"savvy\", \"savvy\", \"screen\", \"screen\", \"screen\", \"screen\", \"screen\", \"sensitive\", \"set\", \"set\", \"set\", \"set\", \"set\", \"shade\", \"shapes\", \"sign\", \"sign\", \"sisters\", \"size\", \"size\", \"size\", \"size\", \"size\", \"son\", \"son\", \"son\", \"son\", \"son\", \"sound\", \"sound\", \"sound\", \"sound\", \"sound\", \"speaker\", \"speaker\", \"speaker\", \"spotify\", \"store\", \"store\", \"store\", \"store\", \"store\", \"strain\", \"strain\", \"sunlight\", \"tablet\", \"tablet\", \"tablet\", \"tablet\", \"tablet\", \"tablets\", \"tablets\", \"tablets\", \"tablets\", \"tablets\", \"tabs\", \"tabs\", \"tabs\", \"tag\", \"tag\", \"tank\", \"tap\", \"tap\", \"tap\", \"text\", \"text\", \"theres\", \"time\", \"time\", \"time\", \"time\", \"time\", \"times\", \"times\", \"times\", \"times\", \"times\", \"tooth\", \"transfer\", \"transfer\", \"transferred\", \"tried\", \"tried\", \"tried\", \"tried\", \"tried\", \"underground\", \"underground\", \"unit\", \"unit\", \"unit\", \"unit\", \"unlimited\", \"unlimited\", \"unlimited\", \"unlock\", \"upgrade\", \"upgrade\", \"upgrade\", \"upgrade\", \"use\", \"use\", \"use\", \"use\", \"use\", \"user\", \"user\", \"user\", \"user\", \"user\", \"uses\", \"uses\", \"uses\", \"uses\", \"uses\", \"usual\", \"value\", \"value\", \"value\", \"value\", \"value\", \"ve\", \"ve\", \"ve\", \"ve\", \"ve\", \"visuals\", \"visuals\", \"voice\", \"voyage\", \"voyager\", \"wallpaper\", \"weather\", \"weather\", \"weather\", \"weight\", \"weight\", \"weight\", \"weight\", \"white\", \"white\", \"white\", \"wife\", \"wife\", \"wife\", \"wife\", \"wife\", \"wifi\", \"wifi\", \"wifi\", \"wifi\", \"wifi\", \"work\", \"work\", \"work\", \"work\", \"work\", \"works\", \"works\", \"works\", \"works\", \"works\", \"worries\", \"worry\", \"worry\", \"worry\", \"worry\", \"worry\", \"year\", \"year\", \"year\", \"year\", \"year\", \"young\", \"young\", \"young\", \"young\", \"young\", \"youngest\", \"youngest\", \"yr\", \"yr\", \"yr\", \"yr\", \"yr\"]}, \"R\": 30, \"lambda.step\": 0.01, \"plot.opts\": {\"xlab\": \"PC1\", \"ylab\": \"PC2\"}, \"topic.order\": [4, 5, 3, 2, 1]};\n",
       "\n",
       "function LDAvis_load_lib(url, callback){\n",
       "  var s = document.createElement('script');\n",
       "  s.src = url;\n",
       "  s.async = true;\n",
       "  s.onreadystatechange = s.onload = callback;\n",
       "  s.onerror = function(){console.warn(\"failed to load library \" + url);};\n",
       "  document.getElementsByTagName(\"head\")[0].appendChild(s);\n",
       "}\n",
       "\n",
       "if(typeof(LDAvis) !== \"undefined\"){\n",
       "   // already loaded: just create the visualization\n",
       "   !function(LDAvis){\n",
       "       new LDAvis(\"#\" + \"ldavis_el25947007618085106571691\", ldavis_el25947007618085106571691_data);\n",
       "   }(LDAvis);\n",
       "}else if(typeof define === \"function\" && define.amd){\n",
       "   // require.js is available: use it to load d3/LDAvis\n",
       "   require.config({paths: {d3: \"https://cdnjs.cloudflare.com/ajax/libs/d3/3.5.5/d3.min\"}});\n",
       "   require([\"d3\"], function(d3){\n",
       "      window.d3 = d3;\n",
       "      LDAvis_load_lib(\"https://cdn.rawgit.com/bmabey/pyLDAvis/files/ldavis.v1.0.0.js\", function(){\n",
       "        new LDAvis(\"#\" + \"ldavis_el25947007618085106571691\", ldavis_el25947007618085106571691_data);\n",
       "      });\n",
       "    });\n",
       "}else{\n",
       "    // require.js not available: dynamically load d3 & LDAvis\n",
       "    LDAvis_load_lib(\"https://cdnjs.cloudflare.com/ajax/libs/d3/3.5.5/d3.min.js\", function(){\n",
       "         LDAvis_load_lib(\"https://cdn.rawgit.com/bmabey/pyLDAvis/files/ldavis.v1.0.0.js\", function(){\n",
       "                 new LDAvis(\"#\" + \"ldavis_el25947007618085106571691\", ldavis_el25947007618085106571691_data);\n",
       "            })\n",
       "         });\n",
       "}\n",
       "</script>"
      ],
      "text/plain": [
       "PreparedData(topic_coordinates=              x         y  topics  cluster       Freq\n",
       "topic                                                \n",
       "3      0.036385  0.098335       1        1  24.651011\n",
       "4      0.085763 -0.062789       2        1  20.921955\n",
       "2      0.109981  0.058166       3        1  18.672348\n",
       "1     -0.034946 -0.142191       4        1  17.925484\n",
       "0     -0.197183  0.048479       5        1  17.829203, topic_info=     Category         Freq           Term        Total  loglift  logprob\n",
       "791   Default  1736.000000          loves  1736.000000  30.0000  30.0000\n",
       "1048  Default  1745.000000           kids  1745.000000  29.0000  29.0000\n",
       "79    Default  1660.000000            old  1660.000000  28.0000  28.0000\n",
       "104   Default  1290.000000           year  1290.000000  27.0000  27.0000\n",
       "86    Default  2039.000000          price  2039.000000  26.0000  26.0000\n",
       "622   Default  2287.000000         bought  2287.000000  25.0000  25.0000\n",
       "60    Default  2340.000000           easy  2340.000000  24.0000  24.0000\n",
       "759   Default  2310.000000         kindle  2310.000000  23.0000  23.0000\n",
       "687   Default   865.000000           gift   865.000000  22.0000  22.0000\n",
       "685   Default   666.000000      christmas   666.000000  21.0000  21.0000\n",
       "5     Default  2474.000000           love  2474.000000  20.0000  20.0000\n",
       "1178  Default   739.000000       daughter   739.000000  19.0000  19.0000\n",
       "422   Default   728.000000            son   728.000000  18.0000  18.0000\n",
       "194   Default  1541.000000           apps  1541.000000  17.0000  17.0000\n",
       "1     Default  4995.000000          great  4995.000000  16.0000  16.0000\n",
       "66    Default  2417.000000           good  2417.000000  15.0000  15.0000\n",
       "536   Default  5977.000000         tablet  5977.000000  14.0000  14.0000\n",
       "214   Default  3062.000000            use  3062.000000  13.0000  13.0000\n",
       "664   Default   914.000000           read   914.000000  12.0000  12.0000\n",
       "241   Default   593.000000        quality   593.000000  11.0000  11.0000\n",
       "122   Default   351.000000          sound   351.000000  10.0000  10.0000\n",
       "1983  Default   321.000000       parental   321.000000   9.0000   9.0000\n",
       "906   Default   960.000000        reading   960.000000   8.0000   8.0000\n",
       "1186  Default   443.000000         google   443.000000   7.0000   7.0000\n",
       "138   Default  1369.000000         screen  1369.000000   6.0000   6.0000\n",
       "123   Default   300.000000          alexa   300.000000   5.0000   5.0000\n",
       "35    Default   539.000000          store   539.000000   4.0000   4.0000\n",
       "1025  Default   244.000000            tap   244.000000   3.0000   3.0000\n",
       "1146  Default   315.000000  granddaughter   315.000000   2.0000   2.0000\n",
       "108   Default   233.000000           echo   233.000000   1.0000   1.0000\n",
       "...       ...          ...            ...          ...      ...      ...\n",
       "1178   Topic5   590.988647       daughter   739.147888   1.5006  -3.9689\n",
       "1181   Topic5   210.254791             yr   259.600983   1.5135  -5.0024\n",
       "422    Topic5   565.228516            son   728.753906   1.4702  -4.0135\n",
       "687    Topic5   659.593811           gift   865.391113   1.4528  -3.8591\n",
       "339    Topic5    47.360538        brought    56.407509   1.5495  -6.4929\n",
       "79     Topic5  1212.879883            old  1660.923340   1.4100  -3.2500\n",
       "1642   Topic5   294.425262       grandson   384.768311   1.4567  -4.6657\n",
       "104    Topic5   925.313110           year  1290.724609   1.3915  -3.5206\n",
       "1073   Topic5   112.364960      grandkids   141.884827   1.4911  -5.6290\n",
       "880    Topic5   158.688171     absolutely   206.053452   1.4631  -5.2838\n",
       "587    Topic5   200.101242           uses   269.448669   1.4268  -5.0519\n",
       "1054   Topic5    92.784775          grand   118.176575   1.4824  -5.8204\n",
       "3      Topic5   100.720032        husband   129.969345   1.4694  -5.7384\n",
       "622    Topic5  1277.777954         bought  2287.873535   1.1418  -3.1978\n",
       "1069   Topic5   100.167946          plays   132.755386   1.4427  -5.7439\n",
       "60     Topic5  1061.850708           easy  2340.479004   0.9340  -3.3830\n",
       "398    Topic5   164.063858        durable   252.542847   1.2930  -5.2505\n",
       "214    Topic5  1121.475098            use  3062.386719   0.7198  -3.3283\n",
       "117    Topic5   400.757690            got   862.453491   0.9579  -4.3574\n",
       "382    Topic5   402.251282      purchased   939.524414   0.8760  -4.3536\n",
       "5      Topic5   720.710999           love  2474.061523   0.4910  -3.7705\n",
       "423    Topic5   190.541977           wife   367.259155   1.0681  -5.1009\n",
       "536    Topic5  1007.075684         tablet  5977.339355  -0.0566  -3.4359\n",
       "1136   Topic5   375.651764          games  1426.707153   0.3899  -4.4221\n",
       "1      Topic5   660.841125          great  4995.089844  -0.2984  -3.8572\n",
       "568    Topic5   251.056274          books  1258.147949   0.1126  -4.8250\n",
       "275    Topic5   215.808136        perfect   844.587891   0.3599  -4.9763\n",
       "759    Topic5   287.657135         kindle  2310.580078  -0.3592  -4.6890\n",
       "174    Topic5   168.370071      recommend   731.141357   0.2559  -5.2246\n",
       "89     Topic5   156.472137        product  1171.408203  -0.2888  -5.2978\n",
       "\n",
       "[404 rows x 6 columns], token_table=      Topic      Freq        Term\n",
       "term                             \n",
       "880       1  0.160153  absolutely\n",
       "880       2  0.029119  absolutely\n",
       "880       3  0.019412  absolutely\n",
       "880       4  0.019412  absolutely\n",
       "880       5  0.771644  absolutely\n",
       "2089      2  0.935572       abuse\n",
       "826       2  0.919612     adapter\n",
       "826       5  0.041801     adapter\n",
       "2127      1  0.089426        adds\n",
       "2127      2  0.864447        adds\n",
       "2127      4  0.029809        adds\n",
       "1705      1  0.038054         ads\n",
       "1705      2  0.783908         ads\n",
       "1705      3  0.015222         ads\n",
       "1705      4  0.159826         ads\n",
       "1444      2  0.013678       adult\n",
       "1444      3  0.054711       adult\n",
       "1444      4  0.834350       adult\n",
       "1444      5  0.095745       adult\n",
       "1288      2  0.127145      adults\n",
       "1288      3  0.080910      adults\n",
       "1288      4  0.785988      adults\n",
       "1421      3  0.913966      afford\n",
       "640       1  0.219175  affordable\n",
       "640       2  0.068492  affordable\n",
       "640       3  0.650675  affordable\n",
       "640       4  0.054794  affordable\n",
       "2072      2  0.005823         age\n",
       "2072      3  0.029114         age\n",
       "2072      4  0.657969         age\n",
       "...     ...       ...         ...\n",
       "45        4  0.085881        work\n",
       "45        5  0.107902        work\n",
       "178       1  0.264711       works\n",
       "178       2  0.224475       works\n",
       "178       3  0.354712       works\n",
       "178       4  0.077296       works\n",
       "178       5  0.079413       works\n",
       "1533      3  0.904878     worries\n",
       "1429      1  0.021669       worry\n",
       "1429      2  0.010834       worry\n",
       "1429      3  0.032503       worry\n",
       "1429      4  0.920925       worry\n",
       "1429      5  0.021669       worry\n",
       "104       1  0.002324        year\n",
       "104       2  0.045711        year\n",
       "104       3  0.025567        year\n",
       "104       4  0.209960        year\n",
       "104       5  0.716652        year\n",
       "1059      1  0.008334       young\n",
       "1059      2  0.075004       young\n",
       "1059      3  0.041669       young\n",
       "1059      4  0.733372       young\n",
       "1059      5  0.141674       young\n",
       "2277      3  0.035455    youngest\n",
       "2277      5  0.957290    youngest\n",
       "1181      1  0.007704          yr\n",
       "1181      2  0.034669          yr\n",
       "1181      3  0.030817          yr\n",
       "1181      4  0.119414          yr\n",
       "1181      5  0.808934          yr\n",
       "\n",
       "[997 rows x 3 columns], R=30, lambda_step=0.01, plot_opts={'xlab': 'PC1', 'ylab': 'PC2'}, topic_order=[4, 5, 3, 2, 1])"
      ]
     },
     "execution_count": 93,
     "metadata": {},
     "output_type": "execute_result"
    }
   ],
   "source": [
    "# Interpret LDA Results\n",
    "import pyLDAvis.gensim\n",
    "pyLDAvis.enable_notebook()\n",
    "pyLDAvis.gensim.prepare(lda, corpus, id2word)"
   ]
  },
  {
   "cell_type": "markdown",
   "metadata": {},
   "source": [
    "## Stretch Goals\n",
    "\n",
    "* Incorporate Named Entity Recognition in your analysis\n",
    "* Incorporate some custom pre-processing from our previous lessons (like spacy lemmatization)\n",
    "* Analyze a dataset of interest to you with topic modeling"
   ]
  }
 ],
 "metadata": {
  "kernelspec": {
   "display_name": "U4-S1-NLP (Python3)",
   "language": "python",
   "name": "u4-s1-nlp"
  },
  "language_info": {
   "codemirror_mode": {
    "name": "ipython",
    "version": 3
   },
   "file_extension": ".py",
   "mimetype": "text/x-python",
   "name": "python",
   "nbconvert_exporter": "python",
   "pygments_lexer": "ipython3",
   "version": "3.7.0"
  }
 },
 "nbformat": 4,
 "nbformat_minor": 4
}
